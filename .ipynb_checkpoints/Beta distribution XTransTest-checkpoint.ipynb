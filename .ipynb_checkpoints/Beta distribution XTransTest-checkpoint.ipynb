{
 "cells": [
  {
   "cell_type": "code",
   "execution_count": 1,
   "metadata": {},
   "outputs": [],
   "source": [
    "%matplotlib inline\n",
    "%load_ext autoreload\n",
    "%autoreload 2\n",
    "\n",
    "import numpy   as np\n",
    "import sklearn as skl\n",
    "\n",
    "import matplotlib.pyplot as plt\n",
    "import seaborn           as srn\n",
    "\n",
    "from sklearn.model_selection       import train_test_split\n",
    "from sklearn.svm                   import OneClassSVM\n",
    "from sklearn.kernel_approximation  import Nystroem\n",
    "from sklearn.neighbors             import KernelDensity\n",
    "from sklearn.model_selection       import GridSearchCV\n",
    "from sklearn.metrics               import pairwise_distances\n",
    "from scipy.stats                   import beta"
   ]
  },
  {
   "cell_type": "markdown",
   "metadata": {},
   "source": [
    "Generate samples from a Beta(2, 2) distribution."
   ]
  },
  {
   "cell_type": "code",
   "execution_count": 2,
   "metadata": {},
   "outputs": [
    {
     "name": "stdout",
     "output_type": "stream",
     "text": [
      "(10000, 200)\n",
      "(8000, 200)\n",
      "(2000, 200)\n"
     ]
    }
   ],
   "source": [
    "np.random.seed(42)\n",
    "N = 10**4\n",
    "\n",
    "X     = beta.rvs(a = 2, b = 2, size = N)[:,np.newaxis]\n",
    "pStar = lambda x: beta.pdf(x, a = 2, b = 2)\n",
    "outfile = \"/Users/raghav/Documents/Uni/NIPS-2018/experiments/sanity_beta_distribution/weights/\"\n",
    "\n",
    "w_1 = np.load(outfile+\"w_1.npy\")\n",
    "bias_1 = np.load(outfile+\"bias1.npy\")\n",
    "\n",
    "XTrans = np.cos(X * w_1 + bias_1)\n",
    "print XTrans.shape\n",
    "\n",
    "XTr, XTe = train_test_split(XTrans, train_size = 0.80, test_size = 0.20, random_state = 42)\n",
    "# XTe      = XTe[np.argsort(XTe.flatten()),:]\n",
    "print XTr.shape\n",
    "print XTe.shape"
   ]
  },
  {
   "cell_type": "markdown",
   "metadata": {},
   "source": [
    "Compute an optimal bandwidth for the RBF kernel using cross-validation, with log-likelihood of density estimation as the target to maximise. Using the median distance between points as an anchor for constructing a grid of possible bandwidths."
   ]
  },
  {
   "cell_type": "code",
   "execution_count": 3,
   "metadata": {},
   "outputs": [],
   "source": [
    "# X = XTrans\n",
    "# D = pairwise_distances(X, X).flatten()\n",
    "\n",
    "# params = { 'bandwidth' : [ np.percentile(D, q = 50) * 2**x for x in np.arange(-5, +3 + 0.5, 0.5) ] }\n",
    "# grid   = GridSearchCV(KernelDensity(), params)\n",
    "# grid.fit(X[:1000, :]) # sub-sample 1000 points for tractability\n",
    "# kde  = grid.best_estimator_"
   ]
  },
  {
   "cell_type": "markdown",
   "metadata": {},
   "source": [
    "Convert the bandwidth of the form $e^{-\\| x - x' \\|^2/2h^2}$ into one of the form $e^{-\\gamma \\| x - x' \\|^2}$."
   ]
  },
  {
   "cell_type": "code",
   "execution_count": 4,
   "metadata": {},
   "outputs": [],
   "source": [
    "# gam0 = 1/np.median(pairwise_distances(XTr, XTr)**2)\n",
    "# gMed = 0.5 / kde.bandwidth**2"
   ]
  },
  {
   "cell_type": "markdown",
   "metadata": {},
   "source": [
    "Fit a OC-SVM with RBF kernel, targetting the 10% density threshold."
   ]
  },
  {
   "cell_type": "code",
   "execution_count": 5,
   "metadata": {},
   "outputs": [
    {
     "data": {
      "text/plain": [
       "OneClassSVM(cache_size=200, coef0=0.0, degree=3, gamma='auto',\n",
       "      kernel='linear', max_iter=-1, nu=0.1, random_state=None,\n",
       "      shrinking=True, tol=0.001, verbose=False)"
      ]
     },
     "execution_count": 5,
     "metadata": {},
     "output_type": "execute_result"
    }
   ],
   "source": [
    "ocsvm = OneClassSVM(nu = 0.10, kernel = 'linear')\n",
    "ocsvm.fit(XTr)"
   ]
  },
  {
   "cell_type": "code",
   "execution_count": null,
   "metadata": {},
   "outputs": [],
   "source": []
  },
  {
   "cell_type": "markdown",
   "metadata": {},
   "source": [
    "Plot the true density, the 10% quantile threshold for the density, and the OC-SVM predictions."
   ]
  },
  {
   "cell_type": "code",
   "execution_count": 6,
   "metadata": {},
   "outputs": [],
   "source": [
    "# srn.set(font_scale = 2.5);\n",
    "# plt.figure(figsize = (8,6));\n",
    "\n",
    "# rStar = np.percentile(pStar(XTe), q = 100 * 0.10)\n",
    "\n",
    "# plt.plot(XTe, pStar(XTe),                        '.-', linewidth=8, markersize=24);\n",
    "# plt.plot([0,1], [rStar,rStar],                   '--', linewidth=4, markersize=24);\n",
    "# plt.plot(XTe, ocsvm.decision_function(XTe),      '.-', linewidth=6, markersize=8, alpha=0.125);\n",
    "# plt.ylim((-1, 2))\n",
    "# plt.xlabel('x'); plt.ylabel('p(x)');\n",
    "# plt.savefig('beta_test.pdf', bbox_inches = 'tight');"
   ]
  },
  {
   "cell_type": "code",
   "execution_count": 7,
   "metadata": {},
   "outputs": [],
   "source": [
    "ocnn_wt = np.load(outfile+\"w_2.npy\")\n",
    "\n",
    "ocsvm_wt = ocsvm.coef_\n",
    "ocsvm_wt= np.transpose(ocsvm_wt)\n",
    "\n"
   ]
  },
  {
   "cell_type": "markdown",
   "metadata": {},
   "source": [
    "Plotting histogram of weights"
   ]
  },
  {
   "cell_type": "code",
   "execution_count": 8,
   "metadata": {},
   "outputs": [
    {
     "data": {
      "image/png": "[encoded data removed]",
      "text/plain": [
       "<matplotlib.figure.Figure at 0x1a0d751cd0>"
      ]
     },
     "metadata": {},
     "output_type": "display_data"
    }
   ],
   "source": [
    "import matplotlib.pyplot as plt\n",
    "# plt.hist(w1,label=\"OCSVM\")  # arguments are passed to np.histogram\n",
    "# plt.hist(w_2,label=\"OC_NN\") \n",
    "plt.hist(ocsvm_wt - ocnn_wt,label=\"Diff\") \n",
    "plt.legend(loc='upper left')\n",
    "plt.title(\"Histogram \")\n",
    "plt.show()\n"
   ]
  },
  {
   "cell_type": "markdown",
   "metadata": {},
   "source": [
    "1) Compute ocsvm : loss function value\n",
    "2) Intialize the weights of oc-nn with ocsvm coeffients."
   ]
  },
  {
   "cell_type": "code",
   "execution_count": 9,
   "metadata": {},
   "outputs": [
    {
     "ename": "IndentationError",
     "evalue": "unindent does not match any outer indentation level (<ipython-input-9-890da0ba475d>, line 5)",
     "output_type": "error",
     "traceback": [
      "\u001b[0;36m  File \u001b[0;32m\"<ipython-input-9-890da0ba475d>\"\u001b[0;36m, line \u001b[0;32m5\u001b[0m\n\u001b[0;31m    return loss\u001b[0m\n\u001b[0m               ^\u001b[0m\n\u001b[0;31mIndentationError\u001b[0m\u001b[0;31m:\u001b[0m unindent does not match any outer indentation level\n"
     ]
    }
   ],
   "source": [
    "def compute_OCSVM_lossValue(ocsvm_wt,XTrans,nu=0.1,rho=0.1):\n",
    "    \n",
    "    loss = 0.5*ocsvm_wt**2 + ((1/nu) * XTrans) - rho\n",
    "    return loss\n",
    "\n"
   ]
  },
  {
   "cell_type": "code",
   "execution_count": null,
   "metadata": {},
   "outputs": [],
   "source": [
    "compute_OCSVM_lossValue(ocsvm_wt,XTrans,0.1,0.1)"
   ]
  }
 ],
 "metadata": {
  "kernelspec": {
   "display_name": "Python 2",
   "language": "python",
   "name": "python2"
  },
  "language_info": {
   "codemirror_mode": {
    "name": "ipython",
    "version": 2
   },
   "file_extension": ".py",
   "mimetype": "text/x-python",
   "name": "python",
   "nbconvert_exporter": "python",
   "pygments_lexer": "ipython2",
   "version": "2.7.12"
  }
 },
 "nbformat": 4,
 "nbformat_minor": 2
}
