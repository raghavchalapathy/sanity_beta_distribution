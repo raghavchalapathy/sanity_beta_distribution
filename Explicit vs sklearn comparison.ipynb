{
 "cells": [
  {
   "cell_type": "code",
   "execution_count": 1,
   "metadata": {},
   "outputs": [],
   "source": [
    "%matplotlib inline\n",
    "%load_ext autoreload\n",
    "%autoreload 2\n",
    "\n",
    "import numpy   as np\n",
    "import sklearn as skl\n",
    "\n",
    "import matplotlib.pyplot as plt\n",
    "import seaborn           as srn\n",
    "\n",
    "from scipy.optimize import minimize\n",
    "\n",
    "from sklearn.model_selection       import train_test_split\n",
    "from sklearn.svm                   import OneClassSVM\n",
    "from scipy.stats                   import beta"
   ]
  },
  {
   "cell_type": "code",
   "execution_count": 2,
   "metadata": {},
   "outputs": [],
   "source": [
    "np.random.seed(42)\n",
    "N = 10**4\n",
    "D = 1\n",
    "\n",
    "X     = beta.rvs(a = 2, b = 2, size = N)[:,np.newaxis]\n",
    "pStar = lambda x: beta.pdf(x, a = 2, b = 2)\n",
    "\n",
    "XTr, XTe = train_test_split(X, train_size = 0.80, test_size = 0.20, random_state = 42)\n",
    "XTe      = XTe[np.argsort(XTe.flatten()),:]"
   ]
  },
  {
   "cell_type": "markdown",
   "metadata": {},
   "source": [
    "## Explicit optimisation"
   ]
  },
  {
   "cell_type": "code",
   "execution_count": 3,
   "metadata": {},
   "outputs": [],
   "source": [
    "def relu(x):\n",
    "    y = x\n",
    "    y[y < 0] = 0\n",
    "    return y\n",
    "\n",
    "def dRelu(x):\n",
    "    y = x\n",
    "    y[x <= 0] = 0\n",
    "    y[x > 0]  = np.ones((len(x[x > 0]),))\n",
    "    return y"
   ]
  },
  {
   "cell_type": "code",
   "execution_count": 4,
   "metadata": {},
   "outputs": [],
   "source": [
    "def svmScore(X, w):\n",
    "    return X.dot(w)\n",
    "\n",
    "def ocsvm_obj(theta, X, nu, D):\n",
    "    \n",
    "    w = theta[:D]\n",
    "    r = theta[D:]\n",
    "    \n",
    "    term1 = 0.5 * np.sum(w**2)\n",
    "    term2 = 1/nu * np.mean(relu(r - svmScore(X, w)))\n",
    "    term3 = -r\n",
    "    \n",
    "    return term1 + term2 + term3\n",
    "\n",
    "def ocsvm_grad(theta, X, nu, D):\n",
    "    \n",
    "    w = theta[:D]\n",
    "    r = theta[D:]\n",
    "    \n",
    "    deriv = dRelu(r - svmScore(X, w))\n",
    "\n",
    "    term1 = np.append(w, 0)\n",
    "    term2 = np.append(1/nu * np.mean(deriv[:,np.newaxis] * (-X), axis = 0),\n",
    "                      1/nu * np.mean(deriv))\n",
    "    term3 = np.append(0*w, -1)\n",
    "\n",
    "    grad = term1 + term2 + term3\n",
    "    \n",
    "    return grad"
   ]
  },
  {
   "cell_type": "code",
   "execution_count": 5,
   "metadata": {},
   "outputs": [
    {
     "name": "stdout",
     "output_type": "stream",
     "text": [
      "Gradient error: 1.7559573392555983e-08\n"
     ]
    }
   ],
   "source": [
    "nu = 0.04\n",
    "\n",
    "theta0 = np.random.normal(0, 1, D + 1)\n",
    "\n",
    "from scipy.optimize import check_grad\n",
    "print('Gradient error: %s' % check_grad(ocsvm_obj, ocsvm_grad, theta0, XTr, nu, D))\n",
    "\n",
    "res = minimize(ocsvm_obj, theta0, \n",
    "               jac = ocsvm_grad, \n",
    "               args = (XTr, nu, D),\n",
    "               method = 'L-BFGS-B',                \n",
    "               options = {'gtol': 1e-8, 'disp': True, 'maxiter' : 50000, 'maxfun' : 10000})\n",
    "\n",
    "wEXP = res.x[:-1]\n",
    "rEXP = res.x[-1]\n",
    "\n",
    "#print(ocsvm_grad(res.x, XTr, nu, D))"
   ]
  },
  {
   "cell_type": "markdown",
   "metadata": {},
   "source": [
    "## sklearn optimisation"
   ]
  },
  {
   "cell_type": "code",
   "execution_count": 6,
   "metadata": {},
   "outputs": [
    {
     "data": {
      "text/plain": [
       "OneClassSVM(cache_size=200, coef0=0.0, degree=3, gamma='auto',\n",
       "      kernel='linear', max_iter=-1, nu=0.04, random_state=None,\n",
       "      shrinking=True, tol=0.001, verbose=False)"
      ]
     },
     "execution_count": 6,
     "metadata": {},
     "output_type": "execute_result"
    }
   ],
   "source": [
    "ocSKL = OneClassSVM(nu = nu, kernel = 'linear')\n",
    "ocSKL.fit(XTr)\n",
    "\n",
    "#print(ocsvm_grad(np.concatenate([ ocSKL.coef_/(nu * XTr.shape[0]), [ ocSKL.intercept_/(nu * XTr.shape[0]) ] ]).flatten(), XTr, nu, D))"
   ]
  },
  {
   "cell_type": "markdown",
   "metadata": {},
   "source": [
    "## Comparison of predictions"
   ]
  },
  {
   "cell_type": "code",
   "execution_count": 7,
   "metadata": {},
   "outputs": [
    {
     "data": {
      "image/png": "[encoded data removed]",
      "text/plain": [
       "<Figure size 576x432 with 1 Axes>"
      ]
     },
     "metadata": {},
     "output_type": "display_data"
    }
   ],
   "source": [
    "ocEXPScores = svmScore(XTe, wEXP) - rEXP\n",
    "ocSKLScores = (ocSKL.decision_function(XTe).flatten())/(nu * XTr.shape[0])\n",
    "\n",
    "srn.set(font_scale = 2);\n",
    "plt.figure(figsize=(8,6));\n",
    "plt.hist(ocEXPScores - ocSKLScores, bins = 25);\n",
    "plt.title('Difference of scores');"
   ]
  }
 ],
 "metadata": {
  "kernelspec": {
   "display_name": "Python 2",
   "language": "python",
   "name": "python2"
  },
  "language_info": {
   "codemirror_mode": {
    "name": "ipython",
    "version": 2
   },
   "file_extension": ".py",
   "mimetype": "text/x-python",
   "name": "python",
   "nbconvert_exporter": "python",
   "pygments_lexer": "ipython2",
   "version": "2.7.12"
  }
 },
 "nbformat": 4,
 "nbformat_minor": 2
}
