{
 "cells": [
  {
   "cell_type": "code",
   "execution_count": 7,
   "metadata": {},
   "outputs": [],
   "source": [
    "# Load libraries\n",
    "import numpy as np\n",
    "from keras.datasets import imdb\n",
    "from keras.preprocessing.text import Tokenizer\n",
    "from keras import models\n",
    "from keras import layers\n",
    "# Set random seed\n",
    "np.random.seed(0)"
   ]
  },
  {
   "cell_type": "markdown",
   "metadata": {},
   "source": [
    "### LOAD USPS Digit ONE along with random uniform NOISE"
   ]
  },
  {
   "cell_type": "code",
   "execution_count": 19,
   "metadata": {},
   "outputs": [
    {
     "name": "stdout",
     "output_type": "stream",
     "text": [
      "importing usps from pickle file .....\n",
      "Data Shape (440, 256)\n"
     ]
    },
    {
     "data": {
      "image/png": "[encoded data removed]",
      "text/plain": [
       "<matplotlib.figure.Figure at 0x11ced8650>"
      ]
     },
     "metadata": {
      "image/png": {
       "height": 263,
       "width": 383
      }
     },
     "output_type": "display_data"
    },
    {
     "name": "stdout",
     "output_type": "stream",
     "text": [
      "(294, 256) (294,)\n",
      "(146, 256) (146,)\n"
     ]
    }
   ],
   "source": [
    "%config InlineBackend.figure_format = 'retina'\n",
    "# let's take a look at the types of labels  are present in the data.\n",
    "# The ones correspond to label 1 and 7's(outliers) correspond to label -1\n",
    "#data.label.value_counts().plot(kind='bar')\n",
    "%matplotlib inline\n",
    "import numpy as np\n",
    "import pandas as pd\n",
    "from sklearn import utils\n",
    "import matplotlib\n",
    "from sklearn.model_selection import train_test_split\n",
    "\n",
    "dataPath = './'\n",
    "\n",
    "def prepare_usps_mlfetch():\n",
    "\n",
    "    import tempfile\n",
    "    import pickle\n",
    "    print \"importing usps from pickle file .....\"\n",
    "\n",
    "    with open(dataPath+'usps_data.pkl', \"rb\") as fp:\n",
    "          loaded_data1 = pickle.load(fp)\n",
    "\n",
    "    # test_data_home = tempfile.mkdtemp()\n",
    "    # from sklearn.datasets.mldata import fetch_mldata\n",
    "    # usps = fetch_mldata('usps', data_home=test_data_home)\n",
    "    # print usps.target.shape\n",
    "    # print type(usps.target)\n",
    "    labels = loaded_data1['target']\n",
    "    data = loaded_data1['data']\n",
    "    # print \"******\",labels\n",
    "\n",
    "    k_ones = np.where(labels == 2)\n",
    "    label_ones = labels[k_ones]\n",
    "    data_ones = data[k_ones]\n",
    "\n",
    "    k_sevens = np.where(labels == 8)\n",
    "    label_sevens = labels[k_sevens]\n",
    "    data_sevens = data[k_sevens]\n",
    "    #\n",
    "    # print \"data_sevens:\",data_sevens.shape\n",
    "    # print \"label_sevens:\",label_sevens.shape\n",
    "    # print \"data_ones:\",data_ones.shape\n",
    "    # print \"label_ones:\",label_ones.shape\n",
    "    #\n",
    "    data_ones = data_ones[:220]\n",
    "    label_ones= label_ones[:220]\n",
    "    \n",
    "    data_sevens =  np.random.uniform(0,1,(len(data_ones),256))\n",
    "    label_ones  =  1*np.ones(len(data_ones))\n",
    "    label_sevens = -1*np.ones(len(data_sevens))\n",
    "\n",
    "    data = np.concatenate((data_ones,data_sevens),axis=0)\n",
    "    label = np.concatenate((label_ones,label_sevens),axis=0)\n",
    "    \n",
    "    #label[0:220] = 1\n",
    "    #label[220:231] = -1\n",
    "    # print \"1-s\",data[0]\n",
    "    # print label\n",
    "    # print \"7-s\",data[230]\n",
    "    # print label\n",
    "    # print \"data:\",data.shape\n",
    "    # print \"label:\",label.shape\n",
    "    return [data,label]\n",
    "\n",
    "\n",
    "[Xtrue,Xlabels] = prepare_usps_mlfetch()\n",
    "data = Xtrue\n",
    "print \"Data Shape\",Xtrue.shape\n",
    "import matplotlib.pyplot as plt\n",
    "plt.hist(Xlabels,bins=5)\n",
    "plt.title(\"Count of Normal and Anomalous datapoints in training set\")\n",
    "plt.show()\n",
    "## Split train and test case split \n",
    "X = Xtrue\n",
    "y = Xlabels\n",
    "X_train, X_test, y_train, y_test = train_test_split(X, y, test_size=0.33, random_state=42)\n",
    "print X_train.shape,y_train.shape\n",
    "print X_test.shape,y_test.shape"
   ]
  },
  {
   "cell_type": "code",
   "execution_count": 27,
   "metadata": {},
   "outputs": [
    {
     "name": "stdout",
     "output_type": "stream",
     "text": [
      "_________________________________________________________________\n",
      "Layer (type)                 Output Shape              Param #   \n",
      "=================================================================\n",
      "dense_10 (Dense)             (None, 256)               65792     \n",
      "_________________________________________________________________\n",
      "dense_11 (Dense)             (None, 128)               32896     \n",
      "_________________________________________________________________\n",
      "dense_12 (Dense)             (None, 1)                 129       \n",
      "=================================================================\n",
      "Total params: 98,817\n",
      "Trainable params: 98,817\n",
      "Non-trainable params: 0\n",
      "_________________________________________________________________\n",
      "None\n"
     ]
    }
   ],
   "source": [
    "number_of_features = 256\n",
    "# Start neural network\n",
    "model = models.Sequential()\n",
    "\n",
    "# Add fully connected layer with a ReLU activation function\n",
    "model.add(layers.Dense(units=256, activation='relu', input_shape=(number_of_features,)))\n",
    "\n",
    "# Add fully connected layer with a ReLU activation function\n",
    "model.add(layers.Dense(units=128, activation='relu'))\n",
    "\n",
    "# Add fully connected layer with a sigmoid activation function\n",
    "model.add(layers.Dense(units=1, activation='sigmoid'))\n",
    "\n",
    "# Compile neural network\n",
    "model.compile(loss='binary_crossentropy', # Cross-entropy\n",
    "                optimizer='rmsprop', # Root Mean Square Propagation\n",
    "                metrics=['accuracy']) # Accuracy performance metric\n",
    "\n",
    "print model.summary()"
   ]
  },
  {
   "cell_type": "markdown",
   "metadata": {},
   "source": [
    "### Train the Neural Network "
   ]
  },
  {
   "cell_type": "code",
   "execution_count": 30,
   "metadata": {},
   "outputs": [
    {
     "name": "stdout",
     "output_type": "stream",
     "text": [
      "Train on 294 samples, validate on 146 samples\n",
      "Epoch 1/100\n",
      "294/294 [==============================] - 0s 482us/step - loss: -8.2231 - acc: 0.4898 - val_loss: -7.7278 - val_acc: 0.5205\n",
      "Epoch 2/100\n",
      "294/294 [==============================] - 0s 452us/step - loss: -8.2235 - acc: 0.4898 - val_loss: -7.7278 - val_acc: 0.5205\n",
      "Epoch 3/100\n",
      "294/294 [==============================] - 0s 412us/step - loss: -8.2235 - acc: 0.4898 - val_loss: -7.7279 - val_acc: 0.5205\n",
      "Epoch 4/100\n",
      "294/294 [==============================] - 0s 411us/step - loss: -8.2235 - acc: 0.4898 - val_loss: -7.7279 - val_acc: 0.5205\n",
      "Epoch 5/100\n",
      "294/294 [==============================] - 0s 416us/step - loss: -8.2235 - acc: 0.4898 - val_loss: -7.7279 - val_acc: 0.5205\n",
      "Epoch 6/100\n",
      "294/294 [==============================] - 0s 416us/step - loss: -8.2235 - acc: 0.4898 - val_loss: -7.7279 - val_acc: 0.5205\n",
      "Epoch 7/100\n",
      "294/294 [==============================] - 0s 425us/step - loss: -8.2235 - acc: 0.4898 - val_loss: -7.7279 - val_acc: 0.5205\n",
      "Epoch 8/100\n",
      "294/294 [==============================] - 0s 461us/step - loss: -8.2235 - acc: 0.4898 - val_loss: -7.7279 - val_acc: 0.5205\n",
      "Epoch 9/100\n",
      "294/294 [==============================] - 0s 477us/step - loss: -8.2235 - acc: 0.4898 - val_loss: -7.7279 - val_acc: 0.5205\n",
      "Epoch 10/100\n",
      "294/294 [==============================] - 0s 466us/step - loss: -8.2235 - acc: 0.4898 - val_loss: -7.7279 - val_acc: 0.5205\n",
      "Epoch 11/100\n",
      "294/294 [==============================] - 0s 477us/step - loss: -8.2235 - acc: 0.4898 - val_loss: -7.7279 - val_acc: 0.5205\n",
      "Epoch 12/100\n",
      "294/294 [==============================] - 0s 440us/step - loss: -8.2235 - acc: 0.4898 - val_loss: -7.7279 - val_acc: 0.5205\n",
      "Epoch 13/100\n",
      "294/294 [==============================] - 0s 483us/step - loss: -8.2235 - acc: 0.4898 - val_loss: -7.7279 - val_acc: 0.5205\n",
      "Epoch 14/100\n",
      "294/294 [==============================] - 0s 463us/step - loss: -8.2235 - acc: 0.4898 - val_loss: -7.7279 - val_acc: 0.5205\n",
      "Epoch 15/100\n",
      "294/294 [==============================] - 0s 471us/step - loss: -8.2235 - acc: 0.4898 - val_loss: -7.7279 - val_acc: 0.5205\n",
      "Epoch 16/100\n",
      "294/294 [==============================] - 0s 498us/step - loss: -8.2235 - acc: 0.4898 - val_loss: -7.7279 - val_acc: 0.5205\n",
      "Epoch 17/100\n",
      "294/294 [==============================] - 0s 534us/step - loss: -8.2235 - acc: 0.4898 - val_loss: -7.7279 - val_acc: 0.5205\n",
      "Epoch 18/100\n",
      "294/294 [==============================] - 0s 507us/step - loss: -8.2235 - acc: 0.4898 - val_loss: -7.7279 - val_acc: 0.5205\n",
      "Epoch 19/100\n",
      "294/294 [==============================] - 0s 495us/step - loss: -8.2235 - acc: 0.4898 - val_loss: -7.7279 - val_acc: 0.5205\n",
      "Epoch 20/100\n",
      "294/294 [==============================] - 0s 473us/step - loss: -8.2235 - acc: 0.4898 - val_loss: -7.7279 - val_acc: 0.5205\n",
      "Epoch 21/100\n",
      "294/294 [==============================] - 0s 450us/step - loss: -8.2235 - acc: 0.4898 - val_loss: -7.7279 - val_acc: 0.5205\n",
      "Epoch 22/100\n",
      "294/294 [==============================] - 0s 503us/step - loss: -8.2235 - acc: 0.4898 - val_loss: -7.7279 - val_acc: 0.5205\n",
      "Epoch 23/100\n",
      "294/294 [==============================] - 0s 455us/step - loss: -8.2235 - acc: 0.4898 - val_loss: -7.7279 - val_acc: 0.5205\n",
      "Epoch 24/100\n",
      "294/294 [==============================] - 0s 463us/step - loss: -8.2235 - acc: 0.4898 - val_loss: -7.7279 - val_acc: 0.5205\n",
      "Epoch 25/100\n",
      "294/294 [==============================] - 0s 467us/step - loss: -8.2235 - acc: 0.4898 - val_loss: -7.7279 - val_acc: 0.5205\n",
      "Epoch 26/100\n",
      "294/294 [==============================] - 0s 482us/step - loss: -8.2235 - acc: 0.4898 - val_loss: -7.7279 - val_acc: 0.5205\n",
      "Epoch 27/100\n",
      "294/294 [==============================] - 0s 522us/step - loss: -8.2235 - acc: 0.4898 - val_loss: -7.7279 - val_acc: 0.5205\n",
      "Epoch 28/100\n",
      "294/294 [==============================] - 0s 533us/step - loss: -8.2235 - acc: 0.4898 - val_loss: -7.7279 - val_acc: 0.5205\n",
      "Epoch 29/100\n",
      "294/294 [==============================] - 0s 522us/step - loss: -8.2235 - acc: 0.4898 - val_loss: -7.7279 - val_acc: 0.5205\n",
      "Epoch 30/100\n",
      "294/294 [==============================] - 0s 492us/step - loss: -8.2235 - acc: 0.4898 - val_loss: -7.7279 - val_acc: 0.5205\n",
      "Epoch 31/100\n",
      "294/294 [==============================] - 0s 500us/step - loss: -8.2235 - acc: 0.4898 - val_loss: -7.7279 - val_acc: 0.5205\n",
      "Epoch 32/100\n",
      "294/294 [==============================] - 0s 533us/step - loss: -8.2235 - acc: 0.4898 - val_loss: -7.7279 - val_acc: 0.5205\n",
      "Epoch 33/100\n",
      "294/294 [==============================] - 0s 537us/step - loss: -8.2235 - acc: 0.4898 - val_loss: -7.7279 - val_acc: 0.5205\n",
      "Epoch 34/100\n",
      "294/294 [==============================] - 0s 556us/step - loss: -8.2235 - acc: 0.4898 - val_loss: -7.7279 - val_acc: 0.5205\n",
      "Epoch 35/100\n",
      "294/294 [==============================] - 0s 561us/step - loss: -8.2235 - acc: 0.4898 - val_loss: -7.7279 - val_acc: 0.5205\n",
      "Epoch 36/100\n",
      "294/294 [==============================] - 0s 509us/step - loss: -8.2235 - acc: 0.4898 - val_loss: -7.7279 - val_acc: 0.5205\n",
      "Epoch 37/100\n",
      "294/294 [==============================] - 0s 483us/step - loss: -8.2235 - acc: 0.4898 - val_loss: -7.7279 - val_acc: 0.5205\n",
      "Epoch 38/100\n",
      "294/294 [==============================] - 0s 492us/step - loss: -8.2235 - acc: 0.4898 - val_loss: -7.7279 - val_acc: 0.5205\n",
      "Epoch 39/100\n",
      "294/294 [==============================] - 0s 457us/step - loss: -8.2235 - acc: 0.4898 - val_loss: -7.7279 - val_acc: 0.5205\n",
      "Epoch 40/100\n",
      "294/294 [==============================] - 0s 506us/step - loss: -8.2235 - acc: 0.4898 - val_loss: -7.7279 - val_acc: 0.5205\n",
      "Epoch 41/100\n",
      "294/294 [==============================] - 0s 499us/step - loss: -8.2235 - acc: 0.4898 - val_loss: -7.7279 - val_acc: 0.5205\n",
      "Epoch 42/100\n",
      "294/294 [==============================] - 0s 513us/step - loss: -8.2235 - acc: 0.4898 - val_loss: -7.7279 - val_acc: 0.5205\n",
      "Epoch 43/100\n",
      "294/294 [==============================] - 0s 490us/step - loss: -8.2235 - acc: 0.4898 - val_loss: -7.7279 - val_acc: 0.5205\n",
      "Epoch 44/100\n",
      "294/294 [==============================] - 0s 486us/step - loss: -8.2235 - acc: 0.4898 - val_loss: -7.7279 - val_acc: 0.5205\n",
      "Epoch 45/100\n",
      "294/294 [==============================] - 0s 473us/step - loss: -8.2235 - acc: 0.4898 - val_loss: -7.7279 - val_acc: 0.5205\n",
      "Epoch 46/100\n",
      "294/294 [==============================] - 0s 511us/step - loss: -8.2235 - acc: 0.4898 - val_loss: -7.7279 - val_acc: 0.5205\n",
      "Epoch 47/100\n",
      "294/294 [==============================] - 0s 490us/step - loss: -8.2235 - acc: 0.4898 - val_loss: -7.7279 - val_acc: 0.5205\n",
      "Epoch 48/100\n",
      "294/294 [==============================] - 0s 478us/step - loss: -8.2235 - acc: 0.4898 - val_loss: -7.7279 - val_acc: 0.5205\n",
      "Epoch 49/100\n",
      "294/294 [==============================] - 0s 507us/step - loss: -8.2235 - acc: 0.4898 - val_loss: -7.7279 - val_acc: 0.5205\n",
      "Epoch 50/100\n",
      "294/294 [==============================] - 0s 564us/step - loss: -8.2235 - acc: 0.4898 - val_loss: -7.7279 - val_acc: 0.5205\n",
      "Epoch 51/100\n",
      "294/294 [==============================] - 0s 470us/step - loss: -8.2235 - acc: 0.4898 - val_loss: -7.7279 - val_acc: 0.5205\n",
      "Epoch 52/100\n",
      "294/294 [==============================] - 0s 474us/step - loss: -8.2235 - acc: 0.4898 - val_loss: -7.7279 - val_acc: 0.5205\n",
      "Epoch 53/100\n",
      "294/294 [==============================] - 0s 458us/step - loss: -8.2235 - acc: 0.4898 - val_loss: -7.7279 - val_acc: 0.5205\n",
      "Epoch 54/100\n",
      "294/294 [==============================] - 0s 462us/step - loss: -8.2235 - acc: 0.4898 - val_loss: -7.7279 - val_acc: 0.5205\n",
      "Epoch 55/100\n",
      "294/294 [==============================] - 0s 504us/step - loss: -8.2235 - acc: 0.4898 - val_loss: -7.7279 - val_acc: 0.5205\n",
      "Epoch 56/100\n",
      "294/294 [==============================] - 0s 577us/step - loss: -8.2235 - acc: 0.4898 - val_loss: -7.7279 - val_acc: 0.5205\n",
      "Epoch 57/100\n",
      "294/294 [==============================] - 0s 543us/step - loss: -8.2235 - acc: 0.4898 - val_loss: -7.7279 - val_acc: 0.5205\n",
      "Epoch 58/100\n",
      "294/294 [==============================] - 0s 474us/step - loss: -8.2235 - acc: 0.4898 - val_loss: -7.7279 - val_acc: 0.5205\n",
      "Epoch 59/100\n",
      "294/294 [==============================] - 0s 488us/step - loss: -8.2235 - acc: 0.4898 - val_loss: -7.7279 - val_acc: 0.5205\n",
      "Epoch 60/100\n"
     ]
    },
    {
     "name": "stdout",
     "output_type": "stream",
     "text": [
      "294/294 [==============================] - 0s 497us/step - loss: -8.2235 - acc: 0.4898 - val_loss: -7.7279 - val_acc: 0.5205\n",
      "Epoch 61/100\n",
      "294/294 [==============================] - 0s 465us/step - loss: -8.2235 - acc: 0.4898 - val_loss: -7.7279 - val_acc: 0.5205\n",
      "Epoch 62/100\n",
      "294/294 [==============================] - 0s 477us/step - loss: -8.2235 - acc: 0.4898 - val_loss: -7.7279 - val_acc: 0.5205\n",
      "Epoch 63/100\n",
      "294/294 [==============================] - 0s 497us/step - loss: -8.2235 - acc: 0.4898 - val_loss: -7.7279 - val_acc: 0.5205\n",
      "Epoch 64/100\n",
      "294/294 [==============================] - 0s 527us/step - loss: -8.2235 - acc: 0.4898 - val_loss: -7.7279 - val_acc: 0.5205\n",
      "Epoch 65/100\n",
      "294/294 [==============================] - 0s 472us/step - loss: -8.2235 - acc: 0.4898 - val_loss: -7.7279 - val_acc: 0.5205\n",
      "Epoch 66/100\n",
      "294/294 [==============================] - 0s 439us/step - loss: -8.2235 - acc: 0.4898 - val_loss: -7.7279 - val_acc: 0.5205\n",
      "Epoch 67/100\n",
      "294/294 [==============================] - 0s 476us/step - loss: -8.2235 - acc: 0.4898 - val_loss: -7.7279 - val_acc: 0.5205\n",
      "Epoch 68/100\n",
      "294/294 [==============================] - 0s 499us/step - loss: -8.2235 - acc: 0.4898 - val_loss: -7.7279 - val_acc: 0.5205\n",
      "Epoch 69/100\n",
      "294/294 [==============================] - 0s 480us/step - loss: -8.2235 - acc: 0.4898 - val_loss: -7.7279 - val_acc: 0.5205\n",
      "Epoch 70/100\n",
      "294/294 [==============================] - 0s 527us/step - loss: -8.2235 - acc: 0.4898 - val_loss: -7.7279 - val_acc: 0.5205\n",
      "Epoch 71/100\n",
      "294/294 [==============================] - 0s 540us/step - loss: -8.2235 - acc: 0.4898 - val_loss: -7.7279 - val_acc: 0.5205\n",
      "Epoch 72/100\n",
      "294/294 [==============================] - 0s 517us/step - loss: -8.2235 - acc: 0.4898 - val_loss: -7.7279 - val_acc: 0.5205\n",
      "Epoch 73/100\n",
      "294/294 [==============================] - 0s 487us/step - loss: -8.2235 - acc: 0.4898 - val_loss: -7.7279 - val_acc: 0.5205\n",
      "Epoch 74/100\n",
      "294/294 [==============================] - 0s 526us/step - loss: -8.2235 - acc: 0.4898 - val_loss: -7.7279 - val_acc: 0.5205\n",
      "Epoch 75/100\n",
      "294/294 [==============================] - 0s 536us/step - loss: -8.2235 - acc: 0.4898 - val_loss: -7.7279 - val_acc: 0.5205\n",
      "Epoch 76/100\n",
      "294/294 [==============================] - 0s 517us/step - loss: -8.2235 - acc: 0.4898 - val_loss: -7.7279 - val_acc: 0.5205\n",
      "Epoch 77/100\n",
      "294/294 [==============================] - 0s 569us/step - loss: -8.2235 - acc: 0.4898 - val_loss: -7.7279 - val_acc: 0.5205\n",
      "Epoch 78/100\n",
      "294/294 [==============================] - 0s 581us/step - loss: -8.2235 - acc: 0.4898 - val_loss: -7.7279 - val_acc: 0.5205\n",
      "Epoch 79/100\n",
      "294/294 [==============================] - 0s 477us/step - loss: -8.2235 - acc: 0.4898 - val_loss: -7.7279 - val_acc: 0.5205\n",
      "Epoch 80/100\n",
      "294/294 [==============================] - 0s 493us/step - loss: -8.2235 - acc: 0.4898 - val_loss: -7.7279 - val_acc: 0.5205\n",
      "Epoch 81/100\n",
      "294/294 [==============================] - 0s 489us/step - loss: -8.2235 - acc: 0.4898 - val_loss: -7.7279 - val_acc: 0.5205\n",
      "Epoch 82/100\n",
      "294/294 [==============================] - 0s 522us/step - loss: -8.2235 - acc: 0.4898 - val_loss: -7.7279 - val_acc: 0.5205\n",
      "Epoch 83/100\n",
      "294/294 [==============================] - 0s 542us/step - loss: -8.2235 - acc: 0.4898 - val_loss: -7.7279 - val_acc: 0.5205\n",
      "Epoch 84/100\n",
      "294/294 [==============================] - 0s 544us/step - loss: -8.2235 - acc: 0.4898 - val_loss: -7.7279 - val_acc: 0.5205\n",
      "Epoch 85/100\n",
      "294/294 [==============================] - 0s 546us/step - loss: -8.2235 - acc: 0.4898 - val_loss: -7.7279 - val_acc: 0.5205\n",
      "Epoch 86/100\n",
      "294/294 [==============================] - 0s 523us/step - loss: -8.2235 - acc: 0.4898 - val_loss: -7.7279 - val_acc: 0.5205\n",
      "Epoch 87/100\n",
      "294/294 [==============================] - 0s 529us/step - loss: -8.2235 - acc: 0.4898 - val_loss: -7.7279 - val_acc: 0.5205\n",
      "Epoch 88/100\n",
      "294/294 [==============================] - 0s 465us/step - loss: -8.2235 - acc: 0.4898 - val_loss: -7.7279 - val_acc: 0.5205\n",
      "Epoch 89/100\n",
      "294/294 [==============================] - 0s 468us/step - loss: -8.2235 - acc: 0.4898 - val_loss: -7.7279 - val_acc: 0.5205\n",
      "Epoch 90/100\n",
      "294/294 [==============================] - 0s 474us/step - loss: -8.2235 - acc: 0.4898 - val_loss: -7.7279 - val_acc: 0.5205\n",
      "Epoch 91/100\n",
      "294/294 [==============================] - 0s 483us/step - loss: -8.2235 - acc: 0.4898 - val_loss: -7.7279 - val_acc: 0.5205\n",
      "Epoch 92/100\n",
      "294/294 [==============================] - 0s 471us/step - loss: -8.2235 - acc: 0.4898 - val_loss: -7.7279 - val_acc: 0.5205\n",
      "Epoch 93/100\n",
      "294/294 [==============================] - 0s 510us/step - loss: -8.2235 - acc: 0.4898 - val_loss: -7.7279 - val_acc: 0.5205\n",
      "Epoch 94/100\n",
      "294/294 [==============================] - 0s 496us/step - loss: -8.2235 - acc: 0.4898 - val_loss: -7.7279 - val_acc: 0.5205\n",
      "Epoch 95/100\n",
      "294/294 [==============================] - 0s 509us/step - loss: -8.2235 - acc: 0.4898 - val_loss: -7.7279 - val_acc: 0.5205\n",
      "Epoch 96/100\n",
      "294/294 [==============================] - 0s 495us/step - loss: -8.2235 - acc: 0.4898 - val_loss: -7.7279 - val_acc: 0.5205\n",
      "Epoch 97/100\n",
      "294/294 [==============================] - 0s 497us/step - loss: -8.2235 - acc: 0.4898 - val_loss: -7.7279 - val_acc: 0.5205\n",
      "Epoch 98/100\n",
      "294/294 [==============================] - 0s 498us/step - loss: -8.2235 - acc: 0.4898 - val_loss: -7.7279 - val_acc: 0.5205\n",
      "Epoch 99/100\n",
      "294/294 [==============================] - 0s 487us/step - loss: -8.2235 - acc: 0.4898 - val_loss: -7.7279 - val_acc: 0.5205\n",
      "Epoch 100/100\n",
      "294/294 [==============================] - 0s 482us/step - loss: -8.2235 - acc: 0.4898 - val_loss: -7.7279 - val_acc: 0.5205\n"
     ]
    }
   ],
   "source": [
    "# Train neural network\n",
    "history = model.fit(X_train, # Features\n",
    "                      y_train, # Target vector\n",
    "                      epochs=100, # Number of epochs\n",
    "                      verbose=1, # Print description after each epoch\n",
    "                      batch_size=10, # Number of observations per batch\n",
    "                      validation_data=(X_test, y_test)) # Data for evaluation"
   ]
  },
  {
   "cell_type": "code",
   "execution_count": null,
   "metadata": {},
   "outputs": [],
   "source": []
  },
  {
   "cell_type": "code",
   "execution_count": null,
   "metadata": {},
   "outputs": [],
   "source": []
  },
  {
   "cell_type": "code",
   "execution_count": null,
   "metadata": {},
   "outputs": [],
   "source": []
  },
  {
   "cell_type": "code",
   "execution_count": null,
   "metadata": {},
   "outputs": [],
   "source": []
  },
  {
   "cell_type": "code",
   "execution_count": null,
   "metadata": {},
   "outputs": [],
   "source": []
  },
  {
   "cell_type": "code",
   "execution_count": null,
   "metadata": {},
   "outputs": [],
   "source": []
  },
  {
   "cell_type": "code",
   "execution_count": null,
   "metadata": {},
   "outputs": [],
   "source": []
  },
  {
   "cell_type": "code",
   "execution_count": null,
   "metadata": {},
   "outputs": [],
   "source": []
  },
  {
   "cell_type": "code",
   "execution_count": null,
   "metadata": {},
   "outputs": [],
   "source": []
  },
  {
   "cell_type": "code",
   "execution_count": null,
   "metadata": {},
   "outputs": [],
   "source": []
  },
  {
   "cell_type": "code",
   "execution_count": null,
   "metadata": {},
   "outputs": [],
   "source": []
  },
  {
   "cell_type": "code",
   "execution_count": null,
   "metadata": {},
   "outputs": [],
   "source": []
  },
  {
   "cell_type": "code",
   "execution_count": null,
   "metadata": {},
   "outputs": [],
   "source": []
  },
  {
   "cell_type": "code",
   "execution_count": null,
   "metadata": {},
   "outputs": [],
   "source": []
  },
  {
   "cell_type": "code",
   "execution_count": null,
   "metadata": {},
   "outputs": [],
   "source": []
  },
  {
   "cell_type": "code",
   "execution_count": null,
   "metadata": {},
   "outputs": [],
   "source": []
  },
  {
   "cell_type": "code",
   "execution_count": null,
   "metadata": {},
   "outputs": [],
   "source": []
  },
  {
   "cell_type": "code",
   "execution_count": null,
   "metadata": {},
   "outputs": [],
   "source": []
  },
  {
   "cell_type": "code",
   "execution_count": null,
   "metadata": {},
   "outputs": [],
   "source": []
  },
  {
   "cell_type": "code",
   "execution_count": null,
   "metadata": {},
   "outputs": [],
   "source": []
  },
  {
   "cell_type": "code",
   "execution_count": null,
   "metadata": {},
   "outputs": [],
   "source": []
  },
  {
   "cell_type": "code",
   "execution_count": null,
   "metadata": {},
   "outputs": [],
   "source": []
  },
  {
   "cell_type": "code",
   "execution_count": null,
   "metadata": {},
   "outputs": [],
   "source": []
  },
  {
   "cell_type": "code",
   "execution_count": null,
   "metadata": {},
   "outputs": [],
   "source": []
  },
  {
   "cell_type": "code",
   "execution_count": null,
   "metadata": {},
   "outputs": [],
   "source": []
  },
  {
   "cell_type": "code",
   "execution_count": null,
   "metadata": {},
   "outputs": [],
   "source": []
  },
  {
   "cell_type": "code",
   "execution_count": null,
   "metadata": {},
   "outputs": [],
   "source": []
  },
  {
   "cell_type": "code",
   "execution_count": null,
   "metadata": {},
   "outputs": [],
   "source": []
  },
  {
   "cell_type": "code",
   "execution_count": null,
   "metadata": {},
   "outputs": [],
   "source": []
  },
  {
   "cell_type": "markdown",
   "metadata": {},
   "source": [
    "## Load USPS Data"
   ]
  },
  {
   "cell_type": "code",
   "execution_count": 13,
   "metadata": {},
   "outputs": [
    {
     "name": "stdout",
     "output_type": "stream",
     "text": [
      "importing usps from pickle file .....\n",
      "Data Shape (231, 256)\n"
     ]
    },
    {
     "data": {
      "image/png": "[encoded data removed]",
      "text/plain": [
       "<matplotlib.figure.Figure at 0x11afade50>"
      ]
     },
     "metadata": {
      "image/png": {
       "height": 263,
       "width": 383
      }
     },
     "output_type": "display_data"
    }
   ],
   "source": [
    "%config InlineBackend.figure_format = 'retina'\n",
    "# let's take a look at the types of labels  are present in the data.\n",
    "# The ones correspond to label 1 and 7's(outliers) correspond to label -1\n",
    "#data.label.value_counts().plot(kind='bar')\n",
    "%matplotlib inline\n",
    "import numpy as np\n",
    "import pandas as pd\n",
    "from sklearn import utils\n",
    "import matplotlib\n",
    "\n",
    "dataPath = './'\n",
    "def prepare_usps_mlfetch():\n",
    "\n",
    "    import tempfile\n",
    "    import pickle\n",
    "    print \"importing usps from pickle file .....\"\n",
    "\n",
    "    with open(dataPath+'usps_data.pkl', \"rb\") as fp:\n",
    "          loaded_data1 = pickle.load(fp)\n",
    "\n",
    "    # test_data_home = tempfile.mkdtemp()\n",
    "    # from sklearn.datasets.mldata import fetch_mldata\n",
    "    # usps = fetch_mldata('usps', data_home=test_data_home)\n",
    "    # print usps.target.shape\n",
    "    # print type(usps.target)\n",
    "    labels = loaded_data1['target']\n",
    "    data = loaded_data1['data']\n",
    "    # print \"******\",labels\n",
    "\n",
    "    k_ones = np.where(labels == 2)\n",
    "    label_ones = labels[k_ones]\n",
    "    data_ones = data[k_ones]\n",
    "\n",
    "    k_sevens = np.where(labels == 8)\n",
    "    label_sevens = labels[k_sevens]\n",
    "    data_sevens = data[k_sevens]\n",
    "    #\n",
    "    # print \"data_sevens:\",data_sevens.shape\n",
    "    # print \"label_sevens:\",label_sevens.shape\n",
    "    # print \"data_ones:\",data_ones.shape\n",
    "    # print \"label_ones:\",label_ones.shape\n",
    "    #\n",
    "    data_ones = data_ones[:220]\n",
    "    label_ones= label_ones[:220]\n",
    "    data_sevens = data_sevens[:11]\n",
    "    label_sevens = label_sevens[:11]\n",
    "\n",
    "    data = np.concatenate((data_ones,data_sevens),axis=0)\n",
    "    label = np.concatenate((label_ones,label_sevens),axis=0)\n",
    "    label[0:220] = 1\n",
    "    label[220:231] = -1\n",
    "    # print \"1-s\",data[0]\n",
    "    # print label\n",
    "    # print \"7-s\",data[230]\n",
    "    # print label\n",
    "    # print \"data:\",data.shape\n",
    "    # print \"label:\",label.shape\n",
    "    return [data,label]\n",
    "\n",
    "\n",
    "[Xtrue,Xlabels] = prepare_usps_mlfetch()\n",
    "data = Xtrue\n",
    "print \"Data Shape\",Xtrue.shape\n",
    "import matplotlib.pyplot as plt\n",
    "plt.hist(Xlabels,bins=5)\n",
    "plt.title(\"Count of Normal and Anomalous datapoints in training set\")\n",
    "plt.show()"
   ]
  }
 ],
 "metadata": {
  "kernelspec": {
   "display_name": "Python 2",
   "language": "python",
   "name": "python2"
  },
  "language_info": {
   "codemirror_mode": {
    "name": "ipython",
    "version": 2
   },
   "file_extension": ".py",
   "mimetype": "text/x-python",
   "name": "python",
   "nbconvert_exporter": "python",
   "pygments_lexer": "ipython2",
   "version": "2.7.12"
  }
 },
 "nbformat": 4,
 "nbformat_minor": 2
}
