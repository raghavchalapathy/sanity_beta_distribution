{
 "cells": [
  {
   "cell_type": "code",
   "execution_count": 32,
   "metadata": {
    "collapsed": false
   },
   "outputs": [],
   "source": [
    "%matplotlib inline\n",
    "import numpy as np\n",
    "import pandas as pd\n",
    "from sklearn import utils\n",
    "import matplotlib\n",
    "# import the CSV from http://kdd.ics.uci.edu/databases/kddcup99/kddcup99.html\n",
    "# this will return a pandas dataframe.\n",
    "\n",
    "data = pd.read_csv('./data/kddcup_data_10_percent.csv',low_memory=False)\n",
    "\n",
    "col_names = [\"duration\",\"protocol_type\",\"service\",\"flag\",\"src_bytes\",\n",
    "    \"dst_bytes\",\"land\",\"wrong_fragment\",\"urgent\",\"hot\",\"num_failed_logins\",\n",
    "    \"logged_in\",\"num_compromised\",\"root_shell\",\"su_attempted\",\"num_root\",\n",
    "    \"num_file_creations\",\"num_shells\",\"num_access_files\",\"num_outbound_cmds\",\n",
    "    \"is_host_login\",\"is_guest_login\",\"count\",\"srv_count\",\"serror_rate\",\n",
    "    \"srv_serror_rate\",\"rerror_rate\",\"srv_rerror_rate\",\"same_srv_rate\",\n",
    "    \"diff_srv_rate\",\"srv_diff_host_rate\",\"dst_host_count\",\"dst_host_srv_count\",\n",
    "    \"dst_host_same_srv_rate\",\"dst_host_diff_srv_rate\",\"dst_host_same_src_port_rate\",\n",
    "    \"dst_host_srv_diff_host_rate\",\"dst_host_serror_rate\",\"dst_host_srv_serror_rate\",\n",
    "    \"dst_host_rerror_rate\",\"dst_host_srv_rerror_rate\",\"label\"]\n",
    "data = pd.read_csv(\"./data/kddcup_data_10_percent.csv\", header=None, names = col_names)\n"
   ]
  },
  {
   "cell_type": "code",
   "execution_count": 33,
   "metadata": {
    "collapsed": false
   },
   "outputs": [
    {
     "data": {
      "text/plain": [
       "Index([u'duration', u'protocol_type', u'service', u'flag', u'src_bytes',\n",
       "       u'dst_bytes', u'land', u'wrong_fragment', u'urgent', u'hot',\n",
       "       u'num_failed_logins', u'logged_in', u'num_compromised', u'root_shell',\n",
       "       u'su_attempted', u'num_root', u'num_file_creations', u'num_shells',\n",
       "       u'num_access_files', u'num_outbound_cmds', u'is_host_login',\n",
       "       u'is_guest_login', u'count', u'srv_count', u'serror_rate',\n",
       "       u'srv_serror_rate', u'rerror_rate', u'srv_rerror_rate',\n",
       "       u'same_srv_rate', u'diff_srv_rate', u'srv_diff_host_rate',\n",
       "       u'dst_host_count', u'dst_host_srv_count', u'dst_host_same_srv_rate',\n",
       "       u'dst_host_diff_srv_rate', u'dst_host_same_src_port_rate',\n",
       "       u'dst_host_srv_diff_host_rate', u'dst_host_serror_rate',\n",
       "       u'dst_host_srv_serror_rate', u'dst_host_rerror_rate',\n",
       "       u'dst_host_srv_rerror_rate', u'label'],\n",
       "      dtype='object')"
      ]
     },
     "execution_count": 33,
     "metadata": {},
     "output_type": "execute_result"
    }
   ],
   "source": [
    "data.columns\n"
   ]
  },
  {
   "cell_type": "code",
   "execution_count": 22,
   "metadata": {
    "collapsed": false
   },
   "outputs": [
    {
     "data": {
      "text/html": [
       "<div>\n",
       "<table border=\"1\" class=\"dataframe\">\n",
       "  <thead>\n",
       "    <tr style=\"text-align: right;\">\n",
       "      <th></th>\n",
       "      <th>duration</th>\n",
       "      <th>protocol_type</th>\n",
       "      <th>service</th>\n",
       "      <th>flag</th>\n",
       "      <th>src_bytes</th>\n",
       "      <th>dst_bytes</th>\n",
       "      <th>land</th>\n",
       "      <th>wrong_fragment</th>\n",
       "      <th>urgent</th>\n",
       "      <th>hot</th>\n",
       "      <th>...</th>\n",
       "      <th>dst_host_srv_count</th>\n",
       "      <th>dst_host_same_srv_rate</th>\n",
       "      <th>dst_host_diff_srv_rate</th>\n",
       "      <th>dst_host_same_src_port_rate</th>\n",
       "      <th>dst_host_srv_diff_host_rate</th>\n",
       "      <th>dst_host_serror_rate</th>\n",
       "      <th>dst_host_srv_serror_rate</th>\n",
       "      <th>dst_host_rerror_rate</th>\n",
       "      <th>dst_host_srv_rerror_rate</th>\n",
       "      <th>label</th>\n",
       "    </tr>\n",
       "  </thead>\n",
       "  <tbody>\n",
       "    <tr>\n",
       "      <th>0</th>\n",
       "      <td>0</td>\n",
       "      <td>tcp</td>\n",
       "      <td>http</td>\n",
       "      <td>SF</td>\n",
       "      <td>181</td>\n",
       "      <td>5450</td>\n",
       "      <td>0</td>\n",
       "      <td>0</td>\n",
       "      <td>0</td>\n",
       "      <td>0</td>\n",
       "      <td>...</td>\n",
       "      <td>9</td>\n",
       "      <td>1.0</td>\n",
       "      <td>0.0</td>\n",
       "      <td>0.11</td>\n",
       "      <td>0.0</td>\n",
       "      <td>0.0</td>\n",
       "      <td>0.0</td>\n",
       "      <td>0.0</td>\n",
       "      <td>0.0</td>\n",
       "      <td>normal.</td>\n",
       "    </tr>\n",
       "    <tr>\n",
       "      <th>1</th>\n",
       "      <td>0</td>\n",
       "      <td>tcp</td>\n",
       "      <td>http</td>\n",
       "      <td>SF</td>\n",
       "      <td>239</td>\n",
       "      <td>486</td>\n",
       "      <td>0</td>\n",
       "      <td>0</td>\n",
       "      <td>0</td>\n",
       "      <td>0</td>\n",
       "      <td>...</td>\n",
       "      <td>19</td>\n",
       "      <td>1.0</td>\n",
       "      <td>0.0</td>\n",
       "      <td>0.05</td>\n",
       "      <td>0.0</td>\n",
       "      <td>0.0</td>\n",
       "      <td>0.0</td>\n",
       "      <td>0.0</td>\n",
       "      <td>0.0</td>\n",
       "      <td>normal.</td>\n",
       "    </tr>\n",
       "    <tr>\n",
       "      <th>2</th>\n",
       "      <td>0</td>\n",
       "      <td>tcp</td>\n",
       "      <td>http</td>\n",
       "      <td>SF</td>\n",
       "      <td>235</td>\n",
       "      <td>1337</td>\n",
       "      <td>0</td>\n",
       "      <td>0</td>\n",
       "      <td>0</td>\n",
       "      <td>0</td>\n",
       "      <td>...</td>\n",
       "      <td>29</td>\n",
       "      <td>1.0</td>\n",
       "      <td>0.0</td>\n",
       "      <td>0.03</td>\n",
       "      <td>0.0</td>\n",
       "      <td>0.0</td>\n",
       "      <td>0.0</td>\n",
       "      <td>0.0</td>\n",
       "      <td>0.0</td>\n",
       "      <td>normal.</td>\n",
       "    </tr>\n",
       "    <tr>\n",
       "      <th>3</th>\n",
       "      <td>0</td>\n",
       "      <td>tcp</td>\n",
       "      <td>http</td>\n",
       "      <td>SF</td>\n",
       "      <td>219</td>\n",
       "      <td>1337</td>\n",
       "      <td>0</td>\n",
       "      <td>0</td>\n",
       "      <td>0</td>\n",
       "      <td>0</td>\n",
       "      <td>...</td>\n",
       "      <td>39</td>\n",
       "      <td>1.0</td>\n",
       "      <td>0.0</td>\n",
       "      <td>0.03</td>\n",
       "      <td>0.0</td>\n",
       "      <td>0.0</td>\n",
       "      <td>0.0</td>\n",
       "      <td>0.0</td>\n",
       "      <td>0.0</td>\n",
       "      <td>normal.</td>\n",
       "    </tr>\n",
       "    <tr>\n",
       "      <th>4</th>\n",
       "      <td>0</td>\n",
       "      <td>tcp</td>\n",
       "      <td>http</td>\n",
       "      <td>SF</td>\n",
       "      <td>217</td>\n",
       "      <td>2032</td>\n",
       "      <td>0</td>\n",
       "      <td>0</td>\n",
       "      <td>0</td>\n",
       "      <td>0</td>\n",
       "      <td>...</td>\n",
       "      <td>49</td>\n",
       "      <td>1.0</td>\n",
       "      <td>0.0</td>\n",
       "      <td>0.02</td>\n",
       "      <td>0.0</td>\n",
       "      <td>0.0</td>\n",
       "      <td>0.0</td>\n",
       "      <td>0.0</td>\n",
       "      <td>0.0</td>\n",
       "      <td>normal.</td>\n",
       "    </tr>\n",
       "  </tbody>\n",
       "</table>\n",
       "<p>5 rows × 42 columns</p>\n",
       "</div>"
      ],
      "text/plain": [
       "   duration protocol_type service flag  src_bytes  dst_bytes  land  \\\n",
       "0         0           tcp    http   SF        181       5450     0   \n",
       "1         0           tcp    http   SF        239        486     0   \n",
       "2         0           tcp    http   SF        235       1337     0   \n",
       "3         0           tcp    http   SF        219       1337     0   \n",
       "4         0           tcp    http   SF        217       2032     0   \n",
       "\n",
       "   wrong_fragment  urgent  hot   ...     dst_host_srv_count  \\\n",
       "0               0       0    0   ...                      9   \n",
       "1               0       0    0   ...                     19   \n",
       "2               0       0    0   ...                     29   \n",
       "3               0       0    0   ...                     39   \n",
       "4               0       0    0   ...                     49   \n",
       "\n",
       "   dst_host_same_srv_rate  dst_host_diff_srv_rate  \\\n",
       "0                     1.0                     0.0   \n",
       "1                     1.0                     0.0   \n",
       "2                     1.0                     0.0   \n",
       "3                     1.0                     0.0   \n",
       "4                     1.0                     0.0   \n",
       "\n",
       "   dst_host_same_src_port_rate  dst_host_srv_diff_host_rate  \\\n",
       "0                         0.11                          0.0   \n",
       "1                         0.05                          0.0   \n",
       "2                         0.03                          0.0   \n",
       "3                         0.03                          0.0   \n",
       "4                         0.02                          0.0   \n",
       "\n",
       "   dst_host_serror_rate  dst_host_srv_serror_rate  dst_host_rerror_rate  \\\n",
       "0                   0.0                       0.0                   0.0   \n",
       "1                   0.0                       0.0                   0.0   \n",
       "2                   0.0                       0.0                   0.0   \n",
       "3                   0.0                       0.0                   0.0   \n",
       "4                   0.0                       0.0                   0.0   \n",
       "\n",
       "   dst_host_srv_rerror_rate    label  \n",
       "0                       0.0  normal.  \n",
       "1                       0.0  normal.  \n",
       "2                       0.0  normal.  \n",
       "3                       0.0  normal.  \n",
       "4                       0.0  normal.  \n",
       "\n",
       "[5 rows x 42 columns]"
      ]
     },
     "execution_count": 22,
     "metadata": {},
     "output_type": "execute_result"
    }
   ],
   "source": [
    "data.head()"
   ]
  },
  {
   "cell_type": "code",
   "execution_count": 34,
   "metadata": {
    "collapsed": false
   },
   "outputs": [],
   "source": [
    "# extract just the logged-in HTTP accesses from the data\n",
    "data = data[data['service'] == \"http\"]  \n",
    "data = data[data[\"logged_in\"] == 1]"
   ]
  },
  {
   "cell_type": "code",
   "execution_count": 26,
   "metadata": {
    "collapsed": false
   },
   "outputs": [
    {
     "data": {
      "text/plain": [
       "duration                       58725\n",
       "protocol_type                  58725\n",
       "service                        58725\n",
       "flag                           58725\n",
       "src_bytes                      58725\n",
       "dst_bytes                      58725\n",
       "land                           58725\n",
       "wrong_fragment                 58725\n",
       "urgent                         58725\n",
       "hot                            58725\n",
       "num_failed_logins              58725\n",
       "logged_in                      58725\n",
       "num_compromised                58725\n",
       "root_shell                     58725\n",
       "su_attempted                   58725\n",
       "num_root                       58725\n",
       "num_file_creations             58725\n",
       "num_shells                     58725\n",
       "num_access_files               58725\n",
       "num_outbound_cmds              58725\n",
       "is_host_login                  58725\n",
       "is_guest_login                 58725\n",
       "count                          58725\n",
       "srv_count                      58725\n",
       "serror_rate                    58725\n",
       "srv_serror_rate                58725\n",
       "rerror_rate                    58725\n",
       "srv_rerror_rate                58725\n",
       "same_srv_rate                  58725\n",
       "diff_srv_rate                  58725\n",
       "srv_diff_host_rate             58725\n",
       "dst_host_count                 58725\n",
       "dst_host_srv_count             58725\n",
       "dst_host_same_srv_rate         58725\n",
       "dst_host_diff_srv_rate         58725\n",
       "dst_host_same_src_port_rate    58725\n",
       "dst_host_srv_diff_host_rate    58725\n",
       "dst_host_serror_rate           58725\n",
       "dst_host_srv_serror_rate       58725\n",
       "dst_host_rerror_rate           58725\n",
       "dst_host_srv_rerror_rate       58725\n",
       "label                          58725\n",
       "dtype: int64"
      ]
     },
     "execution_count": 26,
     "metadata": {},
     "output_type": "execute_result"
    }
   ],
   "source": [
    "data.head()\n",
    "data.count()"
   ]
  },
  {
   "cell_type": "code",
   "execution_count": 35,
   "metadata": {
    "collapsed": false
   },
   "outputs": [
    {
     "data": {
      "text/plain": [
       "<matplotlib.axes._subplots.AxesSubplot at 0x1168da310>"
      ]
     },
     "execution_count": 35,
     "metadata": {},
     "output_type": "execute_result"
    },
    {
     "data": {
      "image/png": "[encoded data removed]",
      "text/plain": [
       "<matplotlib.figure.Figure at 0x116a8e810>"
      ]
     },
     "metadata": {},
     "output_type": "display_data"
    }
   ],
   "source": [
    "# let's take a look at the types of attack labels are present in the data.\n",
    "data.label.value_counts().plot(kind='bar')  "
   ]
  },
  {
   "cell_type": "code",
   "execution_count": 36,
   "metadata": {
    "collapsed": true
   },
   "outputs": [],
   "source": [
    "# the full dataset contains features for SMTP, NDP, ICMP, etc.\n",
    "# here we'll grab just the relevant features for HTTP. only three are relevant\n",
    "relevant_features = [  \n",
    "    \"duration\",\n",
    "    \"src_bytes\",\n",
    "    \"dst_bytes\",\n",
    "    \"label\"\n",
    "]\n",
    "# replace the data with a subset containing only the relevant features\n",
    "data = data[relevant_features]\n",
    "# normalise the data - this leads to better accuracy and reduces numerical instability in\n",
    "# the SVM implementation\n",
    "data[\"duration\"] = np.log((data[\"duration\"] + 0.1).astype(float))  \n",
    "data[\"src_bytes\"] = np.log((data[\"src_bytes\"] + 0.1).astype(float))  \n",
    "data[\"dst_bytes\"] = np.log((data[\"dst_bytes\"] + 0.1).astype(float)) "
   ]
  },
  {
   "cell_type": "markdown",
   "metadata": {},
   "source": [
    "##### MAKING OUR DATA ONE-CLASS\n",
    "\n",
    "Later we're going to use scikit-learn's OneClassSVM predict function to generate output. This returns +1 or -1 to indicate whether the data is an \"inlier\" or \"outlier\" respectively. To make comparison easier later we'll replace our data's label with a matching +1 or -1 value. This also transforms our data from multi-class (multiple different labels) to one-class (boolean label), which is a prerequisite for using a one-class SVM\n",
    "\n",
    "\n"
   ]
  },
  {
   "cell_type": "code",
   "execution_count": 37,
   "metadata": {
    "collapsed": false
   },
   "outputs": [
    {
     "name": "stdout",
     "output_type": "stream",
     "text": [
      "('outliers.shape', (2209,))\n",
      "('outlier fraction', 0.03761600681140911)\n"
     ]
    },
    {
     "data": {
      "text/plain": [
       "(58725, 3)"
      ]
     },
     "execution_count": 37,
     "metadata": {},
     "output_type": "execute_result"
    }
   ],
   "source": [
    "# we're using a one-class SVM, so we need.. a single class. the dataset 'label'\n",
    "# column contains multiple different categories of attacks, so to make use of \n",
    "# this data in a one-class system we need to convert the attacks into\n",
    "# class 1 (normal) and class -1 (attack)\n",
    "data.loc[data['label'] == \"normal.\", \"attack\"] = 1  \n",
    "data.loc[data['label'] != \"normal.\", \"attack\"] = -1\n",
    "# grab out the attack value as the target for training and testing. since we're\n",
    "# only selecting a single column from the `data` dataframe, we'll just get a\n",
    "# series, not a new dataframe\n",
    "target = data['attack']\n",
    "# find the proportion of outliers we expect (aka where `attack == -1`). because \n",
    "# target is a series, we just compare against itself rather than a column.\n",
    "outliers = target[target == -1]  \n",
    "print(\"outliers.shape\", outliers.shape)  \n",
    "print(\"outlier fraction\", float(outliers.shape[0])/target.shape[0])\n",
    "# drop label columns from the dataframe. we're doing this so we can do \n",
    "# unsupervised training with unlabelled data. we've already copied the label\n",
    "# out into the target series so we can compare against it later.\n",
    "data.drop([\"label\", \"attack\"], axis=1, inplace=True)\n",
    "\n",
    "# check the shape for sanity checking.\n",
    "data.shape  "
   ]
  },
  {
   "cell_type": "markdown",
   "metadata": {},
   "source": [
    "#### SPLITTING DATA INTO TRAINING AND TEST SETS\n",
    "\n"
   ]
  },
  {
   "cell_type": "code",
   "execution_count": 40,
   "metadata": {
    "collapsed": false
   },
   "outputs": [
    {
     "data": {
      "text/plain": [
       "(46980, 3)"
      ]
     },
     "execution_count": 40,
     "metadata": {},
     "output_type": "execute_result"
    }
   ],
   "source": [
    "from sklearn.cross_validation import train_test_split\n",
    "train_data, test_data, train_target, test_target = train_test_split(data, target, train_size = 0.8)  \n",
    "train_data.shape  "
   ]
  },
  {
   "cell_type": "markdown",
   "metadata": {},
   "source": [
    "#### TRAINING THE MODEL\n",
    "\n",
    "Now we're ready to train our model. We do this by calling the fit function from scikit-learn's svm.OneClassSVM. It accepts a few parameters but the most important are nu, kernel, and for the RBF kernel we'll be using, gamma.\n",
    "\n",
    "nu is \"An upper bound on the fraction of training errors and a lower bound of the fraction of support vectors\" and must be between 0 and 1. Basically this means the proportion of outliers we expect in our data. This is an important factor to consider when assessing algorithms. Many unsupervised ML algorithms require you to know (or hint at) the number of outliers or class members you expect.\n",
    "kernel is the kernel type to be used. Earlier we discussed SVM's ability to use a non-linear function to project the hyperspace to higher dimension. Setting kernel to something other than linear here will achieve that. The default is rbf (RBF - radial basis function).\n",
    "gamma is a parameter of the RBF kernel type and controls the influence of individual training samples - this effects the \"smoothness\" of the model. A low value improves the smoothness and \"generalizability\" of the model, while a high value reduces it but makes the model \"tighter-fitted\" to the training data. Some experimentation is often required to find the best value.\n",
    "We already know that the proportion of attacks in our data is about 4%. We'll get the precise fraction and use that for nu below. Through experimentation I found an effective gamma to be 0.00005.\n",
    "\n",
    "In our next cell we'll instantiate a model and fit (train) it with our training data.\n",
    "\n"
   ]
  },
  {
   "cell_type": "code",
   "execution_count": 42,
   "metadata": {
    "collapsed": false
   },
   "outputs": [
    {
     "name": "stdout",
     "output_type": "stream",
     "text": [
      "('nu', 0.03761600681140911)\n"
     ]
    },
    {
     "data": {
      "text/plain": [
       "OneClassSVM(cache_size=200, coef0=0.0, degree=3, gamma=5e-05, kernel='rbf',\n",
       "      max_iter=-1, nu=0.0376160068114, random_state=None, shrinking=True,\n",
       "      tol=0.001, verbose=False)"
      ]
     },
     "execution_count": 42,
     "metadata": {},
     "output_type": "execute_result"
    }
   ],
   "source": [
    "from sklearn import svm\n",
    "\n",
    "# set nu (which should be the proportion of outliers in our dataset)\n",
    "nu = float(outliers.shape[0]) / target.shape[0]  \n",
    "print(\"nu\", nu)\n",
    "\n",
    "model = svm.OneClassSVM(nu=nu, kernel='rbf', gamma=0.00005)  \n",
    "model.fit(train_data)"
   ]
  },
  {
   "cell_type": "markdown",
   "metadata": {},
   "source": [
    "#### CHECKING ACCURACY OF THE MODEL"
   ]
  },
  {
   "cell_type": "code",
   "execution_count": 43,
   "metadata": {
    "collapsed": false
   },
   "outputs": [
    {
     "name": "stdout",
     "output_type": "stream",
     "text": [
      "====== Training Dataset Accuracy=======================\n",
      "('Training Dataset accuracy: ', 0.9772243507875692)\n",
      "('Training Dataset precision: ', 0.99868899889243012)\n",
      "('Training Dataset recall: ', 0.9776081424936387)\n",
      "('Training Dataset f1: ', 0.98803613757323683)\n",
      "('Training Dataset area under curve (auc): ', 0.97255757264737963)\n",
      "====== Test Dataset Accuracy=======================\n",
      "('Test Dataset accuracy: ', 0.97794806300553427)\n",
      "('Test Dataset precision: ', 0.99918772563176894)\n",
      "('Test Dataset recall: ', 0.97791714512852224)\n",
      "('Test Dataset f1: ', 0.98843801615999294)\n",
      "('Test Dataset area under curve (auc): ', 0.97834536501709124)\n"
     ]
    }
   ],
   "source": [
    "from sklearn import metrics  \n",
    "preds = model.predict(train_data)  \n",
    "targs = train_target\n",
    "print (\"====== Training Dataset Accuracy=======================\")\n",
    "print(\"Training Dataset accuracy: \", metrics.accuracy_score(targs, preds))  \n",
    "print(\"Training Dataset precision: \", metrics.precision_score(targs, preds))  \n",
    "print(\"Training Dataset recall: \", metrics.recall_score(targs, preds))  \n",
    "print(\"Training Dataset f1: \", metrics.f1_score(targs, preds))  \n",
    "print(\"Training Dataset area under curve (auc): \", metrics.roc_auc_score(targs, preds))  \n",
    "print (\"====== Test Dataset Accuracy=======================\")\n",
    "\n",
    "preds = model.predict(test_data)  \n",
    "targs = test_target\n",
    "\n",
    "print(\"Test Dataset accuracy: \", metrics.accuracy_score(targs, preds))  \n",
    "print(\"Test Dataset precision: \", metrics.precision_score(targs, preds))  \n",
    "print(\"Test Dataset recall: \", metrics.recall_score(targs, preds))  \n",
    "print(\"Test Dataset f1: \", metrics.f1_score(targs, preds))  \n",
    "print(\"Test Dataset area under curve (auc): \", metrics.roc_auc_score(targs, preds))  "
   ]
  },
  {
   "cell_type": "code",
   "execution_count": null,
   "metadata": {
    "collapsed": true
   },
   "outputs": [],
   "source": []
  }
 ],
 "metadata": {
  "kernelspec": {
   "display_name": "Python 2",
   "language": "python",
   "name": "python2"
  },
  "language_info": {
   "codemirror_mode": {
    "name": "ipython",
    "version": 2
   },
   "file_extension": ".py",
   "mimetype": "text/x-python",
   "name": "python",
   "nbconvert_exporter": "python",
   "pygments_lexer": "ipython2",
   "version": "2.7.12"
  }
 },
 "nbformat": 4,
 "nbformat_minor": 0
}
