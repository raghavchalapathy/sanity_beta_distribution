{
 "cells": [
  {
   "cell_type": "code",
   "execution_count": 11,
   "metadata": {
    "collapsed": false
   },
   "outputs": [
    {
     "name": "stdout",
     "output_type": "stream",
     "text": [
      "importing usps from pickle file .....\n"
     ]
    }
   ],
   "source": [
    "%matplotlib inline\n",
    "import numpy as np\n",
    "import pandas as pd\n",
    "from sklearn import utils\n",
    "import matplotlib\n",
    "\n",
    "dataPath = './data/'\n",
    "def prepare_usps_mlfetch():\n",
    "\n",
    "    import tempfile\n",
    "    import pickle\n",
    "    print \"importing usps from pickle file .....\"\n",
    "\n",
    "    with open(dataPath+'usps_data.pkl', \"rb\") as fp:\n",
    "          loaded_data1 = pickle.load(fp)\n",
    "\n",
    "    # test_data_home = tempfile.mkdtemp()\n",
    "    # from sklearn.datasets.mldata import fetch_mldata\n",
    "    # usps = fetch_mldata('usps', data_home=test_data_home)\n",
    "    # print usps.target.shape\n",
    "    # print type(usps.target)\n",
    "    labels = loaded_data1['target']\n",
    "    data = loaded_data1['data']\n",
    "    # print \"******\",labels\n",
    "\n",
    "    k_ones = np.where(labels == 2)\n",
    "    label_ones = labels[k_ones]\n",
    "    data_ones = data[k_ones]\n",
    "\n",
    "    k_sevens = np.where(labels == 8)\n",
    "    label_sevens = labels[k_sevens]\n",
    "    data_sevens = data[k_sevens]\n",
    "    #\n",
    "    # print \"data_sevens:\",data_sevens.shape\n",
    "    # print \"label_sevens:\",label_sevens.shape\n",
    "    # print \"data_ones:\",data_ones.shape\n",
    "    # print \"label_ones:\",label_ones.shape\n",
    "    #\n",
    "    data_ones = data_ones[:220]\n",
    "    label_ones= label_ones[:220]\n",
    "    data_sevens = data_sevens[:11]\n",
    "    label_sevens = label_sevens[:11]\n",
    "\n",
    "    data = np.concatenate((data_ones,data_sevens),axis=0)\n",
    "    label = np.concatenate((label_ones,label_sevens),axis=0)\n",
    "    label[0:220] = 1\n",
    "    label[220:231] = -1\n",
    "    # print \"1-s\",data[0]\n",
    "    # print label\n",
    "    # print \"7-s\",data[230]\n",
    "    # print label\n",
    "    # print \"data:\",data.shape\n",
    "    # print \"label:\",label.shape\n",
    "    return [data,label]\n",
    "\n",
    "[Xtrue,Xlabels] = prepare_usps_mlfetch()\n",
    "data = Xtrue"
   ]
  },
  {
   "cell_type": "code",
   "execution_count": 12,
   "metadata": {
    "collapsed": false
   },
   "outputs": [
    {
     "data": {
      "image/png": "[encoded data removed]",
      "text/plain": [
       "<matplotlib.figure.Figure at 0x11c5627d0>"
      ]
     },
     "metadata": {},
     "output_type": "display_data"
    }
   ],
   "source": [
    "# let's take a look at the types of labels  are present in the data.\n",
    "# The ones correspond to label 1 and 7's(outliers) correspond to label -1\n",
    "#data.label.value_counts().plot(kind='bar')  \n",
    "type(Xlabels)\n",
    "import matplotlib.pyplot as plt\n",
    "plt.hist(Xlabels,bins=5)\n",
    "plt.title(\"Count of Normal and Anomalous datapoints in training set\")\n",
    "plt.show()"
   ]
  },
  {
   "cell_type": "markdown",
   "metadata": {},
   "source": [
    "##### MAKING OUR DATA ONE-CLASS\n",
    "\n",
    "Later we're going to use scikit-learn's OneClassSVM predict function to generate output. This returns +1 or -1 to indicate whether the data is an \"inlier\" or \"outlier\" respectively. To make comparison easier later we'll replace our data's label with a matching +1 or -1 value. This also transforms our data from multi-class (multiple different labels) to one-class (boolean label), which is a prerequisite for using a one-class SVM\n",
    "\n",
    "\n"
   ]
  },
  {
   "cell_type": "code",
   "execution_count": 19,
   "metadata": {
    "collapsed": false
   },
   "outputs": [
    {
     "name": "stdout",
     "output_type": "stream",
     "text": [
      "('outliers.shape', (11,))\n",
      "('outlier fraction', 0.047619047619047616)\n",
      "Training data shape... (231, 256)\n"
     ]
    }
   ],
   "source": [
    "\n",
    "# series, not a new dataframe\n",
    "target = Xlabels\n",
    "# find the proportion of outliers we expect (aka where `labels == -1`). because \n",
    "# target is a series, we just compare against itself rather than a column.\n",
    "outliers = target[target == -1]  \n",
    "print(\"outliers.shape\", outliers.shape)  \n",
    "print(\"outlier fraction\", float(outliers.shape[0])/target.shape[0])\n",
    "\n",
    "# Print the shape of the input data for sanity\n",
    "print \"Training data shape...\",data.shape\n",
    " "
   ]
  },
  {
   "cell_type": "markdown",
   "metadata": {},
   "source": [
    "#### SPLITTING DATA INTO TRAINING AND TEST SETS\n",
    "\n"
   ]
  },
  {
   "cell_type": "code",
   "execution_count": 14,
   "metadata": {
    "collapsed": false
   },
   "outputs": [
    {
     "data": {
      "text/plain": [
       "(184, 256)"
      ]
     },
     "execution_count": 14,
     "metadata": {},
     "output_type": "execute_result"
    }
   ],
   "source": [
    "from sklearn.cross_validation import train_test_split\n",
    "train_data, test_data, train_target, test_target = train_test_split(data, target, train_size = 0.8)  \n",
    "train_data.shape  "
   ]
  },
  {
   "cell_type": "markdown",
   "metadata": {},
   "source": [
    "#### TRAINING THE MODEL\n",
    "\n",
    "Now we're ready to train our model. We do this by calling the fit function from scikit-learn's svm.OneClassSVM. It accepts a few parameters but the most important are nu, kernel, and for the RBF kernel we'll be using, gamma.\n",
    "\n",
    "nu is \"An upper bound on the fraction of training errors and a lower bound of the fraction of support vectors\" and must be between 0 and 1. Basically this means the proportion of outliers we expect in our data. This is an important factor to consider when assessing algorithms. Many unsupervised ML algorithms require you to know (or hint at) the number of outliers or class members you expect.\n",
    "kernel is the kernel type to be used. Earlier we discussed SVM's ability to use a non-linear function to project the hyperspace to higher dimension. Setting kernel to something other than linear here will achieve that. The default is rbf (RBF - radial basis function).\n",
    "gamma is a parameter of the RBF kernel type and controls the influence of individual training samples - this effects the \"smoothness\" of the model. A low value improves the smoothness and \"generalizability\" of the model, while a high value reduces it but makes the model \"tighter-fitted\" to the training data. Some experimentation is often required to find the best value.\n",
    "We already know that the proportion of attacks in our data is about 4%. We'll get the precise fraction and use that for nu below. Through experimentation I found an effective gamma to be 0.00005.\n",
    "\n",
    "In our next cell we'll instantiate a model and fit (train) it with our training data.\n",
    "\n"
   ]
  },
  {
   "cell_type": "code",
   "execution_count": 15,
   "metadata": {
    "collapsed": false
   },
   "outputs": [
    {
     "name": "stdout",
     "output_type": "stream",
     "text": [
      "('nu', 0.047619047619047616)\n"
     ]
    },
    {
     "data": {
      "text/plain": [
       "OneClassSVM(cache_size=200, coef0=0.0, degree=3, gamma=5e-05, kernel='rbf',\n",
       "      max_iter=-1, nu=0.047619047619, random_state=None, shrinking=True,\n",
       "      tol=0.001, verbose=False)"
      ]
     },
     "execution_count": 15,
     "metadata": {},
     "output_type": "execute_result"
    }
   ],
   "source": [
    "from sklearn import svm\n",
    "\n",
    "# set nu (which should be the proportion of outliers in our dataset)\n",
    "nu = float(outliers.shape[0]) / target.shape[0]  \n",
    "print(\"nu\", nu)\n",
    "\n",
    "model = svm.OneClassSVM(nu=nu, kernel='rbf', gamma=0.00005)  \n",
    "model.fit(train_data)"
   ]
  },
  {
   "cell_type": "markdown",
   "metadata": {},
   "source": [
    "#### CHECKING ACCURACY OF THE MODEL"
   ]
  },
  {
   "cell_type": "code",
   "execution_count": 16,
   "metadata": {
    "collapsed": false
   },
   "outputs": [
    {
     "name": "stdout",
     "output_type": "stream",
     "text": [
      "====== Training Dataset Accuracy=======================\n",
      "('Training Dataset accuracy: ', 0.95652173913043481)\n",
      "('Training Dataset precision: ', 0.98843930635838151)\n",
      "('Training Dataset recall: ', 0.96610169491525422)\n",
      "('Training Dataset f1: ', 0.97714285714285709)\n",
      "('Training Dataset area under curve (auc): ', 0.84019370460048426)\n",
      "====== Test Dataset Accuracy=======================\n",
      "('Test Dataset accuracy: ', 0.91489361702127658)\n",
      "('Test Dataset precision: ', 0.97560975609756095)\n",
      "('Test Dataset recall: ', 0.93023255813953487)\n",
      "('Test Dataset f1: ', 0.95238095238095244)\n",
      "('Test Dataset area under curve (auc): ', 0.84011627906976738)\n"
     ]
    }
   ],
   "source": [
    "from sklearn import metrics  \n",
    "preds = model.predict(train_data)  \n",
    "targs = train_target\n",
    "print (\"====== Training Dataset Accuracy=======================\")\n",
    "print(\"Training Dataset accuracy: \", metrics.accuracy_score(targs, preds))  \n",
    "print(\"Training Dataset precision: \", metrics.precision_score(targs, preds))  \n",
    "print(\"Training Dataset recall: \", metrics.recall_score(targs, preds))  \n",
    "print(\"Training Dataset f1: \", metrics.f1_score(targs, preds))  \n",
    "print(\"Training Dataset area under curve (auc): \", metrics.roc_auc_score(targs, preds))  \n",
    "print (\"====== Test Dataset Accuracy=======================\")\n",
    "\n",
    "preds = model.predict(test_data)  \n",
    "targs = test_target\n",
    "\n",
    "print(\"Test Dataset accuracy: \", metrics.accuracy_score(targs, preds))  \n",
    "print(\"Test Dataset precision: \", metrics.precision_score(targs, preds))  \n",
    "print(\"Test Dataset recall: \", metrics.recall_score(targs, preds))  \n",
    "print(\"Test Dataset f1: \", metrics.f1_score(targs, preds))  \n",
    "print(\"Test Dataset area under curve (auc): \", metrics.roc_auc_score(targs, preds))  "
   ]
  },
  {
   "cell_type": "code",
   "execution_count": null,
   "metadata": {
    "collapsed": true
   },
   "outputs": [],
   "source": []
  }
 ],
 "metadata": {
  "kernelspec": {
   "display_name": "Python 2",
   "language": "python",
   "name": "python2"
  },
  "language_info": {
   "codemirror_mode": {
    "name": "ipython",
    "version": 2
   },
   "file_extension": ".py",
   "mimetype": "text/x-python",
   "name": "python",
   "nbconvert_exporter": "python",
   "pygments_lexer": "ipython2",
   "version": "2.7.12"
  }
 },
 "nbformat": 4,
 "nbformat_minor": 0
}
