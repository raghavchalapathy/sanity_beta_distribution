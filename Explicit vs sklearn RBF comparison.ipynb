{
 "cells": [
  {
   "cell_type": "code",
   "execution_count": 1,
   "metadata": {},
   "outputs": [],
   "source": [
    "%matplotlib inline\n",
    "%load_ext autoreload\n",
    "%autoreload 2\n",
    "\n",
    "import numpy   as np\n",
    "import sklearn as skl\n",
    "\n",
    "import matplotlib.pyplot as plt\n",
    "import seaborn           as srn\n",
    "\n",
    "from scipy.optimize import minimize, check_grad\n",
    "\n",
    "from sklearn.model_selection       import train_test_split\n",
    "from sklearn.metrics               import pairwise_distances\n",
    "from sklearn.svm                   import OneClassSVM\n",
    "from sklearn.kernel_approximation  import RBFSampler, Nystroem\n",
    "\n",
    "from scipy.stats                   import beta"
   ]
  },
  {
   "cell_type": "code",
   "execution_count": 2,
   "metadata": {},
   "outputs": [
    {
     "name": "stderr",
     "output_type": "stream",
     "text": [
      "/Users/akmenon/anaconda3/lib/python3.6/site-packages/sklearn/model_selection/_split.py:2026: FutureWarning: From version 0.21, test_size will always complement train_size unless both are specified.\n",
      "  FutureWarning)\n"
     ]
    }
   ],
   "source": [
    "np.random.seed(42)\n",
    "N = 2 * 10**4\n",
    "D = 1\n",
    "\n",
    "X     = beta.rvs(a = 2, b = 2, size = N)[:,np.newaxis]\n",
    "pStar = lambda x: beta.pdf(x, a = 2, b = 2)\n",
    "\n",
    "XTr, XTe = train_test_split(X, train_size = 0.80, random_state = 42)\n",
    "XTe      = XTe[np.argsort(XTe.flatten()),:]"
   ]
  },
  {
   "cell_type": "code",
   "execution_count": 3,
   "metadata": {},
   "outputs": [],
   "source": [
    "nu = 0.75"
   ]
  },
  {
   "cell_type": "code",
   "execution_count": 4,
   "metadata": {},
   "outputs": [],
   "source": [
    "gMed = 100 * 1/np.median(pairwise_distances(XTr, XTr)**2)\n",
    "\n",
    "K = 500\n",
    "C = np.sqrt(np.sqrt(gMed/np.pi))\n",
    "\n",
    "# R = np.sqrt(2 * gMed) * np.random.normal(0, 1, (D, K))\n",
    "# b = 2 * np.pi * np.random.uniform(0, 1, (1, K))\n",
    "# XTrTrans = C * np.sqrt(2/K) * np.cos(XTr.dot(R) + b)\n",
    "# XTeTrans = C * np.sqrt(2/K) * np.cos(XTe.dot(R) + b)\n",
    "\n",
    "rff = Nystroem(gamma = gMed, n_components = 500, random_state = 42)\n",
    "rff.fit(XTr)\n",
    "\n",
    "XTrTrans = C * rff.transform(XTr)\n",
    "XTeTrans = C * rff.transform(XTe)"
   ]
  },
  {
   "cell_type": "markdown",
   "metadata": {},
   "source": [
    "## Explicit OC-SVM style optimisation"
   ]
  },
  {
   "cell_type": "code",
   "execution_count": null,
   "metadata": {},
   "outputs": [],
   "source": [
    "def relu(x):\n",
    "    y = x\n",
    "    y[y < 0] = 0\n",
    "    return y\n",
    "\n",
    "def dRelu(x):\n",
    "    y = x\n",
    "    y[x <= 0] = 0\n",
    "    y[x > 0]  = np.ones((len(x[x > 0]),))\n",
    "    return y"
   ]
  },
  {
   "cell_type": "code",
   "execution_count": null,
   "metadata": {},
   "outputs": [],
   "source": [
    "def svmScore(X, w):\n",
    "    return X.dot(w)\n",
    "\n",
    "def ocsvm_obj(theta, X, nu):\n",
    "    \n",
    "    w = theta[:-1]\n",
    "    r = theta[-1]\n",
    "    \n",
    "    term1 = 0.5 * np.sum(w**2)\n",
    "    term2 = 1/nu * np.mean(relu(r - svmScore(X, w)))\n",
    "    term3 = -r\n",
    "    \n",
    "    return term1 + term2 + term3\n",
    "\n",
    "def ocsvm_grad(theta, X, nu):\n",
    "    \n",
    "    w = theta[:-1]\n",
    "    r = theta[-1]\n",
    "    \n",
    "    deriv = dRelu(r - svmScore(X, w))\n",
    "\n",
    "    term1 = np.append(w, 0)\n",
    "    term2 = np.append(1/nu * np.mean(deriv[:,np.newaxis] * (-X), axis = 0),\n",
    "                      1/nu * np.mean(deriv))\n",
    "    term3 = np.append(0*w, -1)\n",
    "\n",
    "    grad = term1 + term2 + term3\n",
    "    \n",
    "    return grad"
   ]
  },
  {
   "cell_type": "code",
   "execution_count": null,
   "metadata": {},
   "outputs": [],
   "source": [
    "theta0 = np.random.normal(0, 1, K + 1)\n",
    "print('Gradient error: %s' % check_grad(ocsvm_obj, ocsvm_grad, theta0, XTrTrans, nu))\n",
    "\n",
    "resEXP = minimize(ocsvm_obj, theta0, \n",
    "                  jac     = ocsvm_grad, \n",
    "                  args    = (XTrTrans, nu),\n",
    "                  method  = 'L-BFGS-B',                \n",
    "                  options = {'gtol': 1e-8, 'disp': True, 'maxiter' : 50000, 'maxfun' : 10000})"
   ]
  },
  {
   "cell_type": "code",
   "execution_count": null,
   "metadata": {},
   "outputs": [],
   "source": [
    "wEXP = resEXP.x[:-1]\n",
    "rEXP = resEXP.x[-1]"
   ]
  },
  {
   "cell_type": "markdown",
   "metadata": {},
   "source": [
    "## Explicit OC-NN style optimisation"
   ]
  },
  {
   "cell_type": "code",
   "execution_count": null,
   "metadata": {},
   "outputs": [],
   "source": [
    "V  = R\n",
    "bH = b\n",
    "\n",
    "g  = lambda x : +C * np.sqrt(2/K) * np.cos(x)\n",
    "dG = lambda x : -C * np.sqrt(2/K) * np.sin(x)\n",
    "\n",
    "def hiddenScore(X, V, g):\n",
    "    return g(X.dot(V) + bH)\n",
    "\n",
    "def nnScore(X, w, V, g):\n",
    "    return hiddenScore(X, V, g).dot(w)"
   ]
  },
  {
   "cell_type": "code",
   "execution_count": null,
   "metadata": {},
   "outputs": [],
   "source": [
    "def ocnn_obj(theta, X, nu, D, K, g, dG):\n",
    "    \n",
    "    w = theta[:K]\n",
    "    r = theta[-1]\n",
    "    \n",
    "    term1 = 0.5  * np.sum(w**2)\n",
    "    term2 = 0\n",
    "    term3 = 1/nu * np.mean(relu(r - nnScore(X, w, V, g)))\n",
    "    term4 = -r\n",
    "    \n",
    "    return term1 + term2 + term3 + term4\n",
    "\n",
    "def ocnn_grad(theta, X, nu, D, K, g, dG):\n",
    "    \n",
    "    N = X.shape[0]\n",
    "    w = theta[:K]\n",
    "    r = theta[-1]\n",
    "    \n",
    "    deriv = dRelu(r - nnScore(X, w, V, g))    \n",
    "\n",
    "    term1 = np.concatenate(( w,\n",
    "                             np.zeros((1,)) ))\n",
    "\n",
    "    term2 = np.concatenate(( np.zeros((w.size,)),\n",
    "                             np.zeros((1,)) ))\n",
    "\n",
    "    term3 = np.concatenate(( 1/nu * np.mean(deriv[:,np.newaxis] * (-hiddenScore(X, V, g)), axis = 0),\n",
    "                             1/nu * np.array([ np.mean(deriv) ]) ))\n",
    "    \n",
    "    term4 = np.concatenate(( np.zeros((w.size,)),\n",
    "                             -1 * np.ones((1,)) ))\n",
    "    \n",
    "    return term1 + term2 + term3 + term4"
   ]
  },
  {
   "cell_type": "code",
   "execution_count": null,
   "metadata": {},
   "outputs": [],
   "source": [
    "theta0 = np.random.normal(0, 1, K + 1)\n",
    "#theta0 = resEXP.x\n",
    "\n",
    "print('Gradient error: %s' % check_grad(ocnn_obj, ocnn_grad, theta0, XTr, nu, D, K, g, dG))\n",
    "resNN = minimize(ocnn_obj, theta0, \n",
    "                 jac     = ocnn_grad, \n",
    "                 args    = (XTr, nu, D, K, g, dG),\n",
    "                 method  = 'L-BFGS-B',                \n",
    "                 options = {'gtol': 1e-8, 'disp': True, 'maxiter' : 50000, 'maxfun' : 10000})"
   ]
  },
  {
   "cell_type": "code",
   "execution_count": null,
   "metadata": {},
   "outputs": [],
   "source": [
    "wNN = resNN.x[:-1]\n",
    "rNN = resNN.x[-1]"
   ]
  },
  {
   "cell_type": "code",
   "execution_count": null,
   "metadata": {},
   "outputs": [],
   "source": [
    "# print(ocsvm_obj(resNN.x, XTrTrans, nu))\n",
    "# print(ocsvm_obj(resEXP.x, XTrTrans, nu))"
   ]
  },
  {
   "cell_type": "code",
   "execution_count": null,
   "metadata": {},
   "outputs": [],
   "source": [
    "# print(ocnn_obj(resNN.x, XTr, nu, D, K, g, dG))\n",
    "# print(ocnn_obj(resEXP.x, XTr, nu, D, K, g, dG))"
   ]
  },
  {
   "cell_type": "code",
   "execution_count": null,
   "metadata": {},
   "outputs": [],
   "source": [
    "# print(np.sum(ocsvm_grad(resNN.x, XTrTrans, nu)**2))\n",
    "# print(np.sum(ocsvm_grad(resEXP.x, XTrTrans, nu)**2))"
   ]
  },
  {
   "cell_type": "code",
   "execution_count": null,
   "metadata": {},
   "outputs": [],
   "source": [
    "# print(np.sum(ocnn_grad(resNN.x, XTr, nu, D, K, g, dG)**2))\n",
    "# print(np.sum(ocnn_grad(resEXP.x, XTr, nu, D, K, g, dG)**2))"
   ]
  },
  {
   "cell_type": "markdown",
   "metadata": {},
   "source": [
    "## Explicit OC-NN style _full_ optimisation"
   ]
  },
  {
   "cell_type": "code",
   "execution_count": null,
   "metadata": {},
   "outputs": [],
   "source": [
    "def fhiddenScore(X, V, bH, g):\n",
    "    return g(X.dot(V) + bH)\n",
    "\n",
    "def fnnScore(X, w, V, bH, g):\n",
    "    return fhiddenScore(X, V, bH, g).dot(w)"
   ]
  },
  {
   "cell_type": "code",
   "execution_count": null,
   "metadata": {},
   "outputs": [],
   "source": [
    "def ocfnn_obj(theta, X, nu, D, K, g, dG):\n",
    "    \n",
    "    w  = theta[:K]\n",
    "    V  = theta[K:K+K*D].reshape((D, K))\n",
    "    bH = theta[K+K*D:K+K*D+K]\n",
    "    r  = theta[-1]\n",
    "    \n",
    "    term1 = 0.5  * np.sum(w**2)\n",
    "    term2 = 0.5  * np.sum(V**2)\n",
    "    term3 = 1/nu * np.mean(relu(r - fnnScore(X, w, V, bH, g)))\n",
    "    term4 = -r\n",
    "    \n",
    "    return term1 + term2 + term3 + term4\n",
    "\n",
    "def ocfnn_grad(theta, X, nu, D, K, g, dG):\n",
    "    \n",
    "    N  = X.shape[0]\n",
    "    w  = theta[:K]\n",
    "    V  = theta[K:K+K*D].reshape((D, K))\n",
    "    bH = theta[K+K*D:K+K*D+K]\n",
    "    r  = theta[-1]\n",
    "    \n",
    "    deriv = dRelu(r - fnnScore(X, w, V, bH, g))    \n",
    "\n",
    "    term1 = np.concatenate(( w,\n",
    "                             np.zeros((V.size,)),\n",
    "                             np.zeros((bH.size,)),\n",
    "                             np.zeros((1,)) ))\n",
    "\n",
    "    term2 = np.concatenate(( np.zeros((w.size,)),\n",
    "                             V.flatten(),\n",
    "                             np.zeros((bH.size,)),\n",
    "                             np.zeros((1,)) ))\n",
    "\n",
    "    term3 = np.concatenate(( 1/nu * np.mean(deriv[:,np.newaxis] * (-fhiddenScore(X, V, bH, g)), axis = 0),\n",
    "                             1/nu * np.mean((deriv[:,np.newaxis] * (dG(X.dot(V) + bH) * -w)).reshape((N, 1, K)) * X.reshape((N, D, 1)), axis = 0).flatten(),\n",
    "                             1/nu * np.mean((deriv[:,np.newaxis] * (dG(X.dot(V) + bH) * -w)).reshape((N, 1, K)) * np.ones((N, D, 1)), axis = 0).flatten(),\n",
    "                             1/nu * np.array([ np.mean(deriv) ]) ))\n",
    "    \n",
    "    term4 = np.concatenate(( np.zeros((w.size,)),\n",
    "                             np.zeros((V.size,)),\n",
    "                             np.zeros((bH.size,)),\n",
    "                             -1 * np.ones((1,)) ))\n",
    "    \n",
    "    return term1 + term2 + term3 + term4"
   ]
  },
  {
   "cell_type": "code",
   "execution_count": null,
   "metadata": {},
   "outputs": [],
   "source": [
    "theta0 = np.random.normal(0, 1, K + K*D + K + 1)\n",
    "#theta0 = resEXP.x\n",
    "\n",
    "print('Gradient error: %s' % check_grad(ocfnn_obj, ocfnn_grad, theta0, XTr, nu, D, K, g, dG))\n",
    "resFNN = minimize(ocfnn_obj, theta0, \n",
    "                  jac     = ocfnn_grad, \n",
    "                  args    = (XTr, nu, D, K, g, dG),\n",
    "                  method  = 'L-BFGS-B',                \n",
    "                  options = {'gtol': 1e-8, 'disp': True, 'maxiter' : 50000, 'maxfun' : 10000})"
   ]
  },
  {
   "cell_type": "code",
   "execution_count": null,
   "metadata": {},
   "outputs": [],
   "source": [
    "wFNN = resFNN.x[:K]\n",
    "VFNN = resFNN.x[K:K+K*D].reshape((D,K))\n",
    "bFNN = resFNN.x[K+K*D:K+K*D+K]\n",
    "rFNN = resFNN.x[-1]"
   ]
  },
  {
   "cell_type": "markdown",
   "metadata": {},
   "source": [
    "## Background contrast optimisation"
   ]
  },
  {
   "cell_type": "code",
   "execution_count": 5,
   "metadata": {},
   "outputs": [],
   "source": [
    "def properObj(theta, XPos, XNeg, nu, gam, mu):\n",
    "\n",
    "    w = theta[:-1][:,np.newaxis]\n",
    "    r = theta[-1]\n",
    "\n",
    "    term1 = np.maximum(r - XPos.dot(w), 0)\n",
    "    term2 = mu * 0.5 * (XNeg.dot(w))**2\n",
    "    term3 = -nu * r\n",
    "\n",
    "    return np.mean(term1) + np.mean(term2) + term3 + (gam/2) * np.sum(w**2)\n",
    "\n",
    "\n",
    "def properGrad(theta, XPos, XNeg, nu, gam, mu):\n",
    "\n",
    "    w = theta[:-1][:,np.newaxis]\n",
    "    r = theta[-1]\n",
    "\n",
    "    term1  = r - XPos.dot(w)\n",
    "    gradH  = (term1 > 0).astype(int) + 0.0 * (term1 == 0).astype(int)\n",
    "    \n",
    "    gradW1 = gradH * (-XPos)\n",
    "    gradR1 = gradH * 1\n",
    "    \n",
    "    gradW2 = mu * (XNeg.dot(w)) * XNeg\n",
    "    gradR2 = np.array([0])\n",
    "\n",
    "    gradW3 = np.array([0])\n",
    "    gradR3 = np.array([-nu])\n",
    "\n",
    "    gradW = np.mean(gradW1,axis = 0).flatten() + \\\n",
    "            np.mean(gradW2,axis = 0).flatten() + \\\n",
    "            gradW3 + \\\n",
    "            gam * w.flatten()\n",
    "    gradR = np.mean(gradR1) + \\\n",
    "            np.mean(gradR2) + \\\n",
    "            gradR3\n",
    "\n",
    "    grad  = np.concatenate([ gradW.flatten(), gradR.flatten() ])\n",
    "\n",
    "    return grad"
   ]
  },
  {
   "cell_type": "code",
   "execution_count": 6,
   "metadata": {},
   "outputs": [],
   "source": [
    "theta0 = np.random.normal(0, 1, K + 1)\n",
    "\n",
    "XBG = C * rff.transform(np.random.uniform(0, 1, XTr.shape))\n",
    "res = minimize(lambda w : properObj(w, XTrTrans, XBG, nu, 1e-2, 1), \n",
    "               theta0,\n",
    "               jac = lambda w : properGrad(w, XTrTrans, XBG, nu, 1e-2, 1),\n",
    "               tol = 1e-16)\n",
    "\n",
    "wBG = res.x[:-1]\n",
    "rBG = res.x[-1]"
   ]
  },
  {
   "cell_type": "markdown",
   "metadata": {},
   "source": [
    "## sklearn optimisation"
   ]
  },
  {
   "cell_type": "code",
   "execution_count": 7,
   "metadata": {},
   "outputs": [
    {
     "data": {
      "text/plain": [
       "OneClassSVM(cache_size=200, coef0=0.0, degree=3, gamma='auto',\n",
       "      kernel='linear', max_iter=-1, nu=0.75, random_state=None,\n",
       "      shrinking=True, tol=0.001, verbose=False)"
      ]
     },
     "execution_count": 7,
     "metadata": {},
     "output_type": "execute_result"
    }
   ],
   "source": [
    "#ocSKL = OneClassSVM(nu = nu, kernel = 'rbf', gamma = gMed)\n",
    "#ocSKL.fit(XTr)\n",
    "\n",
    "ocSKL = OneClassSVM(nu = nu, kernel = 'linear')\n",
    "ocSKL.fit(XTrTrans)\n",
    "\n",
    "#print(ocsvm_grad(np.concatenate([ ocSKL.coef_/(nu * XTr.shape[0]), [ ocSKL.intercept_/(nu * XTr.shape[0]) ] ]).flatten(), XTr, nu, D))"
   ]
  },
  {
   "cell_type": "markdown",
   "metadata": {},
   "source": [
    "## Comparison of predictions"
   ]
  },
  {
   "cell_type": "code",
   "execution_count": 8,
   "metadata": {},
   "outputs": [],
   "source": [
    "#ocEXPScores = svmScore(XTeTrans, wEXP) - rEXP\n",
    "#ocNNScores  = nnScore(XTe, wNN, V, g) - rNN\n",
    "#ocFNNScores = fnnScore(XTe, wFNN, VFNN, bFNN, g) - rFNN\n",
    "ocBGScores  = XTeTrans.dot(wBG) - rBG\n",
    "ocSKLScores = (ocSKL.decision_function(XTeTrans).flatten())/(nu * XTr.shape[0])"
   ]
  },
  {
   "cell_type": "code",
   "execution_count": null,
   "metadata": {},
   "outputs": [],
   "source": [
    "srn.set(font_scale = 2);\n",
    "plt.figure(figsize = (8,6));\n",
    "plt.hist(ocEXPScores - ocSKLScores, bins = 25);\n",
    "plt.title('skl vs OC-SVM explicit');"
   ]
  },
  {
   "cell_type": "code",
   "execution_count": null,
   "metadata": {},
   "outputs": [],
   "source": [
    "srn.set(font_scale = 2);\n",
    "plt.figure(figsize = (8,6));\n",
    "plt.hist(ocNNScores - ocSKLScores, bins = 25);\n",
    "plt.title('skl vs OC-NN frozen V');"
   ]
  },
  {
   "cell_type": "code",
   "execution_count": null,
   "metadata": {},
   "outputs": [],
   "source": [
    "srn.set(font_scale = 2);\n",
    "plt.figure(figsize = (8,6));\n",
    "plt.hist(ocNNScores - ocEXPScores, bins = 25);\n",
    "plt.title('OC-SVM explicit vs OC-NN frozen V');"
   ]
  },
  {
   "cell_type": "code",
   "execution_count": null,
   "metadata": {},
   "outputs": [],
   "source": [
    "srn.set(font_scale = 2);\n",
    "plt.figure(figsize = (8,6));\n",
    "plt.hist(ocFNNScores - ocSKLScores, bins = 25);\n",
    "plt.title('skl vs OC-NN learned V');"
   ]
  },
  {
   "cell_type": "code",
   "execution_count": null,
   "metadata": {},
   "outputs": [],
   "source": [
    "srn.set(font_scale = 2);\n",
    "plt.figure(figsize = (8,6));\n",
    "plt.hist(ocBGScores - ocSKLScores, bins = 25);\n",
    "plt.title('skl vs background contrast');"
   ]
  },
  {
   "cell_type": "code",
   "execution_count": 9,
   "metadata": {},
   "outputs": [
    {
     "data": {
      "image/png": "[encoded data removed]",
      "text/plain": [
       "<Figure size 432x288 with 1 Axes>"
      ]
     },
     "metadata": {},
     "output_type": "display_data"
    }
   ],
   "source": [
    "plt.plot(XTe, pStar(XTe))\n",
    "plt.plot(XTe, nu * (ocSKLScores - ocSKL.intercept_/(nu*XTr.shape[0])))\n",
    "# plt.plot(XTe, nu * (ocEXPScores + rEXP))\n",
    "# plt.plot(XTe, nu * (ocNNScores + rNN))\n",
    "#plt.plot(XTe, nu * (ocFNNScores + rFNN))\n",
    "plt.plot(XTe, ocBGScores + rBG)\n",
    "\n",
    "plt.legend(['True', 'skl', 'oc-svm exp', 'oc-nn frozen', 'oc-nn learned', 'bg contrast']);"
   ]
  },
  {
   "cell_type": "code",
   "execution_count": null,
   "metadata": {},
   "outputs": [],
   "source": []
  }
 ],
 "metadata": {
  "kernelspec": {
   "display_name": "Python 3",
   "language": "python",
   "name": "python3"
  },
  "language_info": {
   "codemirror_mode": {
    "name": "ipython",
    "version": 3
   },
   "file_extension": ".py",
   "mimetype": "text/x-python",
   "name": "python",
   "nbconvert_exporter": "python",
   "pygments_lexer": "ipython3",
   "version": "3.6.5"
  }
 },
 "nbformat": 4,
 "nbformat_minor": 2
}
